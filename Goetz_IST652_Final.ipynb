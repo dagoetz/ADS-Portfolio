{
 "cells": [
  {
   "cell_type": "code",
   "execution_count": 1,
   "metadata": {},
   "outputs": [],
   "source": [
    "#I am first loading the dataset in into a pandas dataframe.\n",
    "#Then I would drop the college variable because It has nothing\n",
    "#to do what I want to accomplish in this model\n",
    "import pandas as pd\n",
    "\n",
    "df = pd.read_csv (r'all_seasons.csv')\n",
    "\n",
    "df=df.drop(columns=['college'])"
   ]
  },
  {
   "cell_type": "code",
   "execution_count": 2,
   "metadata": {},
   "outputs": [],
   "source": [
    "#Creating another dataframe of just the player_names and Player_ID\n",
    "#to use later\n",
    "df111=df[['player_name', 'PlayerID']] \n"
   ]
  },
  {
   "cell_type": "code",
   "execution_count": 3,
   "metadata": {},
   "outputs": [],
   "source": [
    "#Now dropping the player_names from the dataset\n",
    "df=df.drop(columns=['player_name'])"
   ]
  },
  {
   "cell_type": "code",
   "execution_count": 4,
   "metadata": {},
   "outputs": [],
   "source": [
    "import pandas as pd\n",
    "import numpy as np\n",
    "import seaborn as sns\n",
    "import matplotlib.pyplot as plt\n",
    "sns.set(color_codes=True)"
   ]
  },
  {
   "cell_type": "code",
   "execution_count": 5,
   "metadata": {},
   "outputs": [
    {
     "data": {
      "text/plain": [
       "PlayerID               int64\n",
       "team_abbreviation     object\n",
       "age                    int64\n",
       "player_height        float64\n",
       "player_weight        float64\n",
       "country               object\n",
       "draft_year            object\n",
       "draft_round           object\n",
       "draft_number          object\n",
       "gp                     int64\n",
       "pts                  float64\n",
       "reb                  float64\n",
       "ast                  float64\n",
       "net_rating           float64\n",
       "oreb_pct             float64\n",
       "dreb_pct             float64\n",
       "usg_pct              float64\n",
       "ts_pct               float64\n",
       "ast_pct              float64\n",
       "season                object\n",
       "dtype: object"
      ]
     },
     "execution_count": 5,
     "metadata": {},
     "output_type": "execute_result"
    }
   ],
   "source": [
    "#exploring the dataset by getting the types of each column\n",
    "df.dtypes"
   ]
  },
  {
   "cell_type": "code",
   "execution_count": 6,
   "metadata": {},
   "outputs": [
    {
     "name": "stdout",
     "output_type": "stream",
     "text": [
      "The number of duplicated rows:  (0, 20)\n"
     ]
    }
   ],
   "source": [
    "#Checking to see if there is any duplicates in any row.\n",
    "#So far, there are no duplicates, but I got rid of it in the next \n",
    "#code anyway\n",
    "duplicate=df[df.duplicated()]\n",
    "print(\"The number of duplicated rows: \", duplicate.shape)"
   ]
  },
  {
   "cell_type": "code",
   "execution_count": 7,
   "metadata": {},
   "outputs": [],
   "source": [
    "df=df.drop_duplicates()"
   ]
  },
  {
   "cell_type": "code",
   "execution_count": 8,
   "metadata": {},
   "outputs": [
    {
     "data": {
      "text/plain": [
       "PlayerID             0\n",
       "team_abbreviation    0\n",
       "age                  0\n",
       "player_height        0\n",
       "player_weight        0\n",
       "country              0\n",
       "draft_year           0\n",
       "draft_round          0\n",
       "draft_number         0\n",
       "gp                   0\n",
       "pts                  0\n",
       "reb                  0\n",
       "ast                  0\n",
       "net_rating           0\n",
       "oreb_pct             0\n",
       "dreb_pct             0\n",
       "usg_pct              0\n",
       "ts_pct               0\n",
       "ast_pct              0\n",
       "season               0\n",
       "dtype: int64"
      ]
     },
     "execution_count": 8,
     "metadata": {},
     "output_type": "execute_result"
    }
   ],
   "source": [
    "#Checking to see if there is any na's in the dataset\n",
    "df.isnull().sum()"
   ]
  },
  {
   "cell_type": "code",
   "execution_count": 9,
   "metadata": {},
   "outputs": [],
   "source": [
    "#dropping any na's in the dataset\n",
    "df=df.dropna()"
   ]
  },
  {
   "cell_type": "code",
   "execution_count": 10,
   "metadata": {},
   "outputs": [
    {
     "data": {
      "text/plain": [
       "<matplotlib.axes._subplots.AxesSubplot at 0x111a208d0>"
      ]
     },
     "execution_count": 10,
     "metadata": {},
     "output_type": "execute_result"
    },
    {
     "data": {
      "image/png": "[encoded data removed]",
      "text/plain": [
       "<Figure size 432x288 with 1 Axes>"
      ]
     },
     "metadata": {
      "needs_background": "light"
     },
     "output_type": "display_data"
    }
   ],
   "source": [
    "#The goal of the next boxplots is to see if there is any\n",
    "#outliers in the dataset. For the age category, there were some\n",
    "#outliers above 40 years old.\n",
    "sns.boxplot(x=df['age'])"
   ]
  },
  {
   "cell_type": "code",
   "execution_count": 11,
   "metadata": {},
   "outputs": [
    {
     "data": {
      "text/plain": [
       "<matplotlib.axes._subplots.AxesSubplot at 0x111ab6e48>"
      ]
     },
     "execution_count": 11,
     "metadata": {},
     "output_type": "execute_result"
    },
    {
     "data": {
      "image/png": "[encoded data removed]",
      "text/plain": [
       "<Figure size 432x288 with 1 Axes>"
      ]
     },
     "metadata": {
      "needs_background": "light"
     },
     "output_type": "display_data"
    }
   ],
   "source": [
    "#Basketball Players are usually tall, so it is no suprise that\n",
    "#this is skewed towards the higher side. However, there were some outliers\n",
    "#for shorter players.\n",
    "sns.boxplot(x=df['player_height'])"
   ]
  },
  {
   "cell_type": "code",
   "execution_count": 12,
   "metadata": {},
   "outputs": [
    {
     "data": {
      "text/plain": [
       "<matplotlib.axes._subplots.AxesSubplot at 0x113b8da90>"
      ]
     },
     "execution_count": 12,
     "metadata": {},
     "output_type": "execute_result"
    },
    {
     "data": {
      "image/png": "[encoded data removed]",
      "text/plain": [
       "<Figure size 432x288 with 1 Axes>"
      ]
     },
     "metadata": {
      "needs_background": "light"
     },
     "output_type": "display_data"
    }
   ],
   "source": [
    "#There are also some outliers in the weight category above 140 kg.\n",
    "sns.boxplot(x=df['player_weight'])"
   ]
  },
  {
   "cell_type": "code",
   "execution_count": 13,
   "metadata": {},
   "outputs": [
    {
     "data": {
      "text/plain": [
       "<matplotlib.axes._subplots.AxesSubplot at 0x113c4d390>"
      ]
     },
     "execution_count": 13,
     "metadata": {},
     "output_type": "execute_result"
    },
    {
     "data": {
      "image/png": "[encoded data removed]",
      "text/plain": [
       "<Figure size 432x288 with 1 Axes>"
      ]
     },
     "metadata": {
      "needs_background": "light"
     },
     "output_type": "display_data"
    }
   ],
   "source": [
    "#There were a few outliers when it comes to points, which I plan\n",
    "#on being the dependent variable in my model. I would get rid of the points per game o\n",
    "#over 35\n",
    "sns.boxplot(x=df['pts'])"
   ]
  },
  {
   "cell_type": "code",
   "execution_count": 14,
   "metadata": {},
   "outputs": [
    {
     "data": {
      "text/plain": [
       "<matplotlib.axes._subplots.AxesSubplot at 0x113d0c6d8>"
      ]
     },
     "execution_count": 14,
     "metadata": {},
     "output_type": "execute_result"
    },
    {
     "data": {
      "image/png": "[encoded data removed]",
      "text/plain": [
       "<Figure size 432x288 with 1 Axes>"
      ]
     },
     "metadata": {
      "needs_background": "light"
     },
     "output_type": "display_data"
    }
   ],
   "source": [
    "#For revound there is some outliers above 14 rebounds per game that I am looking o\n",
    "#to get rid of\n",
    "sns.boxplot(x=df['reb'])"
   ]
  },
  {
   "cell_type": "code",
   "execution_count": 15,
   "metadata": {},
   "outputs": [
    {
     "data": {
      "text/plain": [
       "<matplotlib.axes._subplots.AxesSubplot at 0x113dc8f60>"
      ]
     },
     "execution_count": 15,
     "metadata": {},
     "output_type": "execute_result"
    },
    {
     "data": {
      "image/png": "[encoded data removed]",
      "text/plain": [
       "<Figure size 432x288 with 1 Axes>"
      ]
     },
     "metadata": {
      "needs_background": "light"
     },
     "output_type": "display_data"
    }
   ],
   "source": [
    "#assists has very few outliers and I do not know if we should be getting rid of any \n",
    "#at this time. However, we will see when it comes to the IQR\n",
    "sns.boxplot(x=df['ast'])"
   ]
  },
  {
   "cell_type": "code",
   "execution_count": 16,
   "metadata": {},
   "outputs": [
    {
     "data": {
      "text/plain": [
       "<matplotlib.axes._subplots.AxesSubplot at 0x113e90048>"
      ]
     },
     "execution_count": 16,
     "metadata": {},
     "output_type": "execute_result"
    },
    {
     "data": {
      "image/png": "[encoded data removed]",
      "text/plain": [
       "<Figure size 432x288 with 1 Axes>"
      ]
     },
     "metadata": {
      "needs_background": "light"
     },
     "output_type": "display_data"
    }
   ],
   "source": [
    "#Net Rating had two major outliers above 300, which may have been\n",
    "#players who did not get that much playing time.\n",
    "sns.boxplot(x=df['net_rating'])\n"
   ]
  },
  {
   "cell_type": "code",
   "execution_count": 17,
   "metadata": {},
   "outputs": [
    {
     "data": {
      "text/plain": [
       "<matplotlib.axes._subplots.AxesSubplot at 0x113f2fd68>"
      ]
     },
     "execution_count": 17,
     "metadata": {},
     "output_type": "execute_result"
    },
    {
     "data": {
      "image/png": "[encoded data removed]",
      "text/plain": [
       "<Figure size 432x288 with 1 Axes>"
      ]
     },
     "metadata": {
      "needs_background": "light"
     },
     "output_type": "display_data"
    }
   ],
   "source": [
    "#oreb_pct has a few obvious outliers that we will\n",
    "#look to getting rid of\n",
    "sns.boxplot(x=df['oreb_pct'])"
   ]
  },
  {
   "cell_type": "code",
   "execution_count": 18,
   "metadata": {},
   "outputs": [
    {
     "data": {
      "text/plain": [
       "<matplotlib.axes._subplots.AxesSubplot at 0x113feb438>"
      ]
     },
     "execution_count": 18,
     "metadata": {},
     "output_type": "execute_result"
    },
    {
     "data": {
      "image/png": "[encoded data removed]",
      "text/plain": [
       "<Figure size 432x288 with 1 Axes>"
      ]
     },
     "metadata": {
      "needs_background": "light"
     },
     "output_type": "display_data"
    }
   ],
   "source": [
    "#usg_pct has a few obvious outliers that we will\n",
    "#look to getting rid of\n",
    "sns.boxplot(x=df['usg_pct'])\n"
   ]
  },
  {
   "cell_type": "code",
   "execution_count": 19,
   "metadata": {},
   "outputs": [
    {
     "data": {
      "text/plain": [
       "<matplotlib.axes._subplots.AxesSubplot at 0x1140a0f98>"
      ]
     },
     "execution_count": 19,
     "metadata": {},
     "output_type": "execute_result"
    },
    {
     "data": {
      "image/png": "[encoded data removed]",
      "text/plain": [
       "<Figure size 432x288 with 1 Axes>"
      ]
     },
     "metadata": {
      "needs_background": "light"
     },
     "output_type": "display_data"
    }
   ],
   "source": [
    "#ts_pct has a on outliers that we will\n",
    "#look to getting rid of\n",
    "sns.boxplot(x=df['ts_pct'])\n"
   ]
  },
  {
   "cell_type": "code",
   "execution_count": 20,
   "metadata": {},
   "outputs": [
    {
     "data": {
      "text/plain": [
       "<matplotlib.axes._subplots.AxesSubplot at 0x114163400>"
      ]
     },
     "execution_count": 20,
     "metadata": {},
     "output_type": "execute_result"
    },
    {
     "data": {
      "image/png": "[encoded data removed]",
      "text/plain": [
       "<Figure size 432x288 with 1 Axes>"
      ]
     },
     "metadata": {
      "needs_background": "light"
     },
     "output_type": "display_data"
    }
   ],
   "source": [
    "#ast_pct has a few obvious outliers that we will\n",
    "#look to getting rid of\n",
    "sns.boxplot(x=df['ast_pct'])\n"
   ]
  },
  {
   "cell_type": "code",
   "execution_count": 21,
   "metadata": {},
   "outputs": [
    {
     "name": "stdout",
     "output_type": "stream",
     "text": [
      "PlayerID         5572.000000\n",
      "age                 6.000000\n",
      "player_height      12.700000\n",
      "player_weight      18.597272\n",
      "gp                 42.000000\n",
      "pts                 8.000000\n",
      "reb                 2.900000\n",
      "ast                 1.800000\n",
      "net_rating          9.500000\n",
      "oreb_pct            0.064000\n",
      "dreb_pct            0.086000\n",
      "usg_pct             0.068000\n",
      "ts_pct              0.079000\n",
      "ast_pct             0.113000\n",
      "dtype: float64\n"
     ]
    }
   ],
   "source": [
    "#Getting the Q1 and Q3 for the df to eliminate outliers. If the values\n",
    "# we not in the IQR, then I plan on eliminating it from the dataset.\n",
    "Q1=df.quantile(0.25)\n",
    "Q3=df.quantile(0.75)\n",
    "IQR=Q3-Q1\n",
    "print(IQR)"
   ]
  },
  {
   "cell_type": "code",
   "execution_count": 22,
   "metadata": {},
   "outputs": [
    {
     "data": {
      "text/plain": [
       "(11145, 20)"
      ]
     },
     "execution_count": 22,
     "metadata": {},
     "output_type": "execute_result"
    }
   ],
   "source": [
    "df.shape"
   ]
  },
  {
   "cell_type": "code",
   "execution_count": 23,
   "metadata": {},
   "outputs": [
    {
     "data": {
      "text/plain": [
       "(8735, 20)"
      ]
     },
     "execution_count": 23,
     "metadata": {},
     "output_type": "execute_result"
    }
   ],
   "source": [
    "#If the data is not within a reasonagle amount from the IQR in any of the columns, then we are getting rid of it\n",
    "#with the function.\n",
    "#Goes from 11145 to 8735 values\n",
    "df = df[~((df < (Q1-1.5 * IQR)) |(df > (Q3 + 1.5 * IQR))).any(axis=1)]\n",
    "df.shape"
   ]
  },
  {
   "cell_type": "code",
   "execution_count": 24,
   "metadata": {},
   "outputs": [
    {
     "data": {
      "text/html": [
       "<div>\n",
       "<style scoped>\n",
       "    .dataframe tbody tr th:only-of-type {\n",
       "        vertical-align: middle;\n",
       "    }\n",
       "\n",
       "    .dataframe tbody tr th {\n",
       "        vertical-align: top;\n",
       "    }\n",
       "\n",
       "    .dataframe thead th {\n",
       "        text-align: right;\n",
       "    }\n",
       "</style>\n",
       "<table border=\"1\" class=\"dataframe\">\n",
       "  <thead>\n",
       "    <tr style=\"text-align: right;\">\n",
       "      <th></th>\n",
       "      <th>PlayerID</th>\n",
       "      <th>age</th>\n",
       "      <th>player_height</th>\n",
       "      <th>player_weight</th>\n",
       "      <th>gp</th>\n",
       "      <th>pts</th>\n",
       "      <th>reb</th>\n",
       "      <th>ast</th>\n",
       "      <th>net_rating</th>\n",
       "      <th>oreb_pct</th>\n",
       "      <th>dreb_pct</th>\n",
       "      <th>usg_pct</th>\n",
       "      <th>ts_pct</th>\n",
       "      <th>ast_pct</th>\n",
       "    </tr>\n",
       "  </thead>\n",
       "  <tbody>\n",
       "    <tr>\n",
       "      <th>PlayerID</th>\n",
       "      <td>1.000000</td>\n",
       "      <td>-0.118459</td>\n",
       "      <td>-0.027410</td>\n",
       "      <td>-0.051745</td>\n",
       "      <td>-0.041853</td>\n",
       "      <td>0.041297</td>\n",
       "      <td>-0.000375</td>\n",
       "      <td>0.021431</td>\n",
       "      <td>0.008854</td>\n",
       "      <td>-0.173276</td>\n",
       "      <td>0.011681</td>\n",
       "      <td>-0.053647</td>\n",
       "      <td>0.206349</td>\n",
       "      <td>-0.023210</td>\n",
       "    </tr>\n",
       "    <tr>\n",
       "      <th>age</th>\n",
       "      <td>-0.118459</td>\n",
       "      <td>1.000000</td>\n",
       "      <td>-0.008386</td>\n",
       "      <td>0.058479</td>\n",
       "      <td>0.027050</td>\n",
       "      <td>-0.005450</td>\n",
       "      <td>0.011787</td>\n",
       "      <td>0.095977</td>\n",
       "      <td>0.135578</td>\n",
       "      <td>-0.076013</td>\n",
       "      <td>0.006321</td>\n",
       "      <td>-0.146668</td>\n",
       "      <td>0.019294</td>\n",
       "      <td>0.068213</td>\n",
       "    </tr>\n",
       "    <tr>\n",
       "      <th>player_height</th>\n",
       "      <td>-0.027410</td>\n",
       "      <td>-0.008386</td>\n",
       "      <td>1.000000</td>\n",
       "      <td>0.815251</td>\n",
       "      <td>0.017275</td>\n",
       "      <td>-0.029005</td>\n",
       "      <td>0.491258</td>\n",
       "      <td>-0.471681</td>\n",
       "      <td>0.004196</td>\n",
       "      <td>0.660924</td>\n",
       "      <td>0.689538</td>\n",
       "      <td>-0.110238</td>\n",
       "      <td>0.122179</td>\n",
       "      <td>-0.665981</td>\n",
       "    </tr>\n",
       "    <tr>\n",
       "      <th>player_weight</th>\n",
       "      <td>-0.051745</td>\n",
       "      <td>0.058479</td>\n",
       "      <td>0.815251</td>\n",
       "      <td>1.000000</td>\n",
       "      <td>0.022998</td>\n",
       "      <td>-0.040143</td>\n",
       "      <td>0.478028</td>\n",
       "      <td>-0.429188</td>\n",
       "      <td>0.006983</td>\n",
       "      <td>0.670611</td>\n",
       "      <td>0.672823</td>\n",
       "      <td>-0.096474</td>\n",
       "      <td>0.088759</td>\n",
       "      <td>-0.595419</td>\n",
       "    </tr>\n",
       "    <tr>\n",
       "      <th>gp</th>\n",
       "      <td>-0.041853</td>\n",
       "      <td>0.027050</td>\n",
       "      <td>0.017275</td>\n",
       "      <td>0.022998</td>\n",
       "      <td>1.000000</td>\n",
       "      <td>0.472505</td>\n",
       "      <td>0.426030</td>\n",
       "      <td>0.351647</td>\n",
       "      <td>0.243681</td>\n",
       "      <td>-0.022843</td>\n",
       "      <td>0.034585</td>\n",
       "      <td>0.081000</td>\n",
       "      <td>0.320609</td>\n",
       "      <td>0.070295</td>\n",
       "    </tr>\n",
       "    <tr>\n",
       "      <th>pts</th>\n",
       "      <td>0.041297</td>\n",
       "      <td>-0.005450</td>\n",
       "      <td>-0.029005</td>\n",
       "      <td>-0.040143</td>\n",
       "      <td>0.472505</td>\n",
       "      <td>1.000000</td>\n",
       "      <td>0.585059</td>\n",
       "      <td>0.618401</td>\n",
       "      <td>0.191498</td>\n",
       "      <td>-0.177055</td>\n",
       "      <td>-0.043689</td>\n",
       "      <td>0.628287</td>\n",
       "      <td>0.383325</td>\n",
       "      <td>0.190398</td>\n",
       "    </tr>\n",
       "    <tr>\n",
       "      <th>reb</th>\n",
       "      <td>-0.000375</td>\n",
       "      <td>0.011787</td>\n",
       "      <td>0.491258</td>\n",
       "      <td>0.478028</td>\n",
       "      <td>0.426030</td>\n",
       "      <td>0.585059</td>\n",
       "      <td>1.000000</td>\n",
       "      <td>0.164903</td>\n",
       "      <td>0.179596</td>\n",
       "      <td>0.467638</td>\n",
       "      <td>0.623819</td>\n",
       "      <td>0.161887</td>\n",
       "      <td>0.309487</td>\n",
       "      <td>-0.227961</td>\n",
       "    </tr>\n",
       "    <tr>\n",
       "      <th>ast</th>\n",
       "      <td>0.021431</td>\n",
       "      <td>0.095977</td>\n",
       "      <td>-0.471681</td>\n",
       "      <td>-0.429188</td>\n",
       "      <td>0.351647</td>\n",
       "      <td>0.618401</td>\n",
       "      <td>0.164903</td>\n",
       "      <td>1.000000</td>\n",
       "      <td>0.152291</td>\n",
       "      <td>-0.459540</td>\n",
       "      <td>-0.339543</td>\n",
       "      <td>0.332319</td>\n",
       "      <td>0.130407</td>\n",
       "      <td>0.781925</td>\n",
       "    </tr>\n",
       "    <tr>\n",
       "      <th>net_rating</th>\n",
       "      <td>0.008854</td>\n",
       "      <td>0.135578</td>\n",
       "      <td>0.004196</td>\n",
       "      <td>0.006983</td>\n",
       "      <td>0.243681</td>\n",
       "      <td>0.191498</td>\n",
       "      <td>0.179596</td>\n",
       "      <td>0.152291</td>\n",
       "      <td>1.000000</td>\n",
       "      <td>0.007285</td>\n",
       "      <td>0.021351</td>\n",
       "      <td>-0.028276</td>\n",
       "      <td>0.323297</td>\n",
       "      <td>0.011484</td>\n",
       "    </tr>\n",
       "    <tr>\n",
       "      <th>oreb_pct</th>\n",
       "      <td>-0.173276</td>\n",
       "      <td>-0.076013</td>\n",
       "      <td>0.660924</td>\n",
       "      <td>0.670611</td>\n",
       "      <td>-0.022843</td>\n",
       "      <td>-0.177055</td>\n",
       "      <td>0.467638</td>\n",
       "      <td>-0.459540</td>\n",
       "      <td>0.007285</td>\n",
       "      <td>1.000000</td>\n",
       "      <td>0.691655</td>\n",
       "      <td>-0.155194</td>\n",
       "      <td>0.070965</td>\n",
       "      <td>-0.528564</td>\n",
       "    </tr>\n",
       "    <tr>\n",
       "      <th>dreb_pct</th>\n",
       "      <td>0.011681</td>\n",
       "      <td>0.006321</td>\n",
       "      <td>0.689538</td>\n",
       "      <td>0.672823</td>\n",
       "      <td>0.034585</td>\n",
       "      <td>-0.043689</td>\n",
       "      <td>0.623819</td>\n",
       "      <td>-0.339543</td>\n",
       "      <td>0.021351</td>\n",
       "      <td>0.691655</td>\n",
       "      <td>1.000000</td>\n",
       "      <td>-0.080665</td>\n",
       "      <td>0.094072</td>\n",
       "      <td>-0.459248</td>\n",
       "    </tr>\n",
       "    <tr>\n",
       "      <th>usg_pct</th>\n",
       "      <td>-0.053647</td>\n",
       "      <td>-0.146668</td>\n",
       "      <td>-0.110238</td>\n",
       "      <td>-0.096474</td>\n",
       "      <td>0.081000</td>\n",
       "      <td>0.628287</td>\n",
       "      <td>0.161887</td>\n",
       "      <td>0.332319</td>\n",
       "      <td>-0.028276</td>\n",
       "      <td>-0.155194</td>\n",
       "      <td>-0.080665</td>\n",
       "      <td>1.000000</td>\n",
       "      <td>0.034706</td>\n",
       "      <td>0.273202</td>\n",
       "    </tr>\n",
       "    <tr>\n",
       "      <th>ts_pct</th>\n",
       "      <td>0.206349</td>\n",
       "      <td>0.019294</td>\n",
       "      <td>0.122179</td>\n",
       "      <td>0.088759</td>\n",
       "      <td>0.320609</td>\n",
       "      <td>0.383325</td>\n",
       "      <td>0.309487</td>\n",
       "      <td>0.130407</td>\n",
       "      <td>0.323297</td>\n",
       "      <td>0.070965</td>\n",
       "      <td>0.094072</td>\n",
       "      <td>0.034706</td>\n",
       "      <td>1.000000</td>\n",
       "      <td>-0.089674</td>\n",
       "    </tr>\n",
       "    <tr>\n",
       "      <th>ast_pct</th>\n",
       "      <td>-0.023210</td>\n",
       "      <td>0.068213</td>\n",
       "      <td>-0.665981</td>\n",
       "      <td>-0.595419</td>\n",
       "      <td>0.070295</td>\n",
       "      <td>0.190398</td>\n",
       "      <td>-0.227961</td>\n",
       "      <td>0.781925</td>\n",
       "      <td>0.011484</td>\n",
       "      <td>-0.528564</td>\n",
       "      <td>-0.459248</td>\n",
       "      <td>0.273202</td>\n",
       "      <td>-0.089674</td>\n",
       "      <td>1.000000</td>\n",
       "    </tr>\n",
       "  </tbody>\n",
       "</table>\n",
       "</div>"
      ],
      "text/plain": [
       "               PlayerID       age  player_height  player_weight        gp  \\\n",
       "PlayerID       1.000000 -0.118459      -0.027410      -0.051745 -0.041853   \n",
       "age           -0.118459  1.000000      -0.008386       0.058479  0.027050   \n",
       "player_height -0.027410 -0.008386       1.000000       0.815251  0.017275   \n",
       "player_weight -0.051745  0.058479       0.815251       1.000000  0.022998   \n",
       "gp            -0.041853  0.027050       0.017275       0.022998  1.000000   \n",
       "pts            0.041297 -0.005450      -0.029005      -0.040143  0.472505   \n",
       "reb           -0.000375  0.011787       0.491258       0.478028  0.426030   \n",
       "ast            0.021431  0.095977      -0.471681      -0.429188  0.351647   \n",
       "net_rating     0.008854  0.135578       0.004196       0.006983  0.243681   \n",
       "oreb_pct      -0.173276 -0.076013       0.660924       0.670611 -0.022843   \n",
       "dreb_pct       0.011681  0.006321       0.689538       0.672823  0.034585   \n",
       "usg_pct       -0.053647 -0.146668      -0.110238      -0.096474  0.081000   \n",
       "ts_pct         0.206349  0.019294       0.122179       0.088759  0.320609   \n",
       "ast_pct       -0.023210  0.068213      -0.665981      -0.595419  0.070295   \n",
       "\n",
       "                    pts       reb       ast  net_rating  oreb_pct  dreb_pct  \\\n",
       "PlayerID       0.041297 -0.000375  0.021431    0.008854 -0.173276  0.011681   \n",
       "age           -0.005450  0.011787  0.095977    0.135578 -0.076013  0.006321   \n",
       "player_height -0.029005  0.491258 -0.471681    0.004196  0.660924  0.689538   \n",
       "player_weight -0.040143  0.478028 -0.429188    0.006983  0.670611  0.672823   \n",
       "gp             0.472505  0.426030  0.351647    0.243681 -0.022843  0.034585   \n",
       "pts            1.000000  0.585059  0.618401    0.191498 -0.177055 -0.043689   \n",
       "reb            0.585059  1.000000  0.164903    0.179596  0.467638  0.623819   \n",
       "ast            0.618401  0.164903  1.000000    0.152291 -0.459540 -0.339543   \n",
       "net_rating     0.191498  0.179596  0.152291    1.000000  0.007285  0.021351   \n",
       "oreb_pct      -0.177055  0.467638 -0.459540    0.007285  1.000000  0.691655   \n",
       "dreb_pct      -0.043689  0.623819 -0.339543    0.021351  0.691655  1.000000   \n",
       "usg_pct        0.628287  0.161887  0.332319   -0.028276 -0.155194 -0.080665   \n",
       "ts_pct         0.383325  0.309487  0.130407    0.323297  0.070965  0.094072   \n",
       "ast_pct        0.190398 -0.227961  0.781925    0.011484 -0.528564 -0.459248   \n",
       "\n",
       "                usg_pct    ts_pct   ast_pct  \n",
       "PlayerID      -0.053647  0.206349 -0.023210  \n",
       "age           -0.146668  0.019294  0.068213  \n",
       "player_height -0.110238  0.122179 -0.665981  \n",
       "player_weight -0.096474  0.088759 -0.595419  \n",
       "gp             0.081000  0.320609  0.070295  \n",
       "pts            0.628287  0.383325  0.190398  \n",
       "reb            0.161887  0.309487 -0.227961  \n",
       "ast            0.332319  0.130407  0.781925  \n",
       "net_rating    -0.028276  0.323297  0.011484  \n",
       "oreb_pct      -0.155194  0.070965 -0.528564  \n",
       "dreb_pct      -0.080665  0.094072 -0.459248  \n",
       "usg_pct        1.000000  0.034706  0.273202  \n",
       "ts_pct         0.034706  1.000000 -0.089674  \n",
       "ast_pct        0.273202 -0.089674  1.000000  "
      ]
     },
     "execution_count": 24,
     "metadata": {},
     "output_type": "execute_result"
    },
    {
     "data": {
      "image/png": "[encoded data removed]",
      "text/plain": [
       "<Figure size 1440x720 with 2 Axes>"
      ]
     },
     "metadata": {
      "needs_background": "light"
     },
     "output_type": "display_data"
    }
   ],
   "source": [
    "#The next step in our exploratory data analysis is to conduct a heatmap of\n",
    "#to get the correlations between the columns. As expected, columns like height\n",
    "#and weight are highly correlated. Points is more correlated with rebounds than any other variable\n",
    "#which could imply that more athletic players who get more rebounds\n",
    "#also get more points.\n",
    "plt.figure(figsize=(20,10))\n",
    "heatmap= df.corr()\n",
    "sns.heatmap(heatmap,cmap=\"BrBG\",annot=True)\n",
    "heatmap"
   ]
  },
  {
   "cell_type": "code",
   "execution_count": 25,
   "metadata": {},
   "outputs": [
    {
     "data": {
      "text/html": [
       "<div>\n",
       "<style scoped>\n",
       "    .dataframe tbody tr th:only-of-type {\n",
       "        vertical-align: middle;\n",
       "    }\n",
       "\n",
       "    .dataframe tbody tr th {\n",
       "        vertical-align: top;\n",
       "    }\n",
       "\n",
       "    .dataframe thead th {\n",
       "        text-align: right;\n",
       "    }\n",
       "</style>\n",
       "<table border=\"1\" class=\"dataframe\">\n",
       "  <thead>\n",
       "    <tr style=\"text-align: right;\">\n",
       "      <th></th>\n",
       "      <th>PlayerID</th>\n",
       "      <th>age</th>\n",
       "      <th>player_height</th>\n",
       "      <th>player_weight</th>\n",
       "      <th>gp</th>\n",
       "      <th>pts</th>\n",
       "      <th>reb</th>\n",
       "      <th>ast</th>\n",
       "      <th>net_rating</th>\n",
       "      <th>oreb_pct</th>\n",
       "      <th>dreb_pct</th>\n",
       "      <th>usg_pct</th>\n",
       "      <th>ts_pct</th>\n",
       "      <th>ast_pct</th>\n",
       "    </tr>\n",
       "  </thead>\n",
       "  <tbody>\n",
       "    <tr>\n",
       "      <th>count</th>\n",
       "      <td>8735.000000</td>\n",
       "      <td>8735.000000</td>\n",
       "      <td>8735.000000</td>\n",
       "      <td>8735.000000</td>\n",
       "      <td>8735.000000</td>\n",
       "      <td>8735.000000</td>\n",
       "      <td>8735.000000</td>\n",
       "      <td>8735.000000</td>\n",
       "      <td>8735.000000</td>\n",
       "      <td>8735.000000</td>\n",
       "      <td>8735.000000</td>\n",
       "      <td>8735.000000</td>\n",
       "      <td>8735.000000</td>\n",
       "      <td>8735.000000</td>\n",
       "    </tr>\n",
       "    <tr>\n",
       "      <th>mean</th>\n",
       "      <td>5560.530052</td>\n",
       "      <td>27.148254</td>\n",
       "      <td>201.210232</td>\n",
       "      <td>100.899068</td>\n",
       "      <td>54.590384</td>\n",
       "      <td>7.619977</td>\n",
       "      <td>3.391082</td>\n",
       "      <td>1.502873</td>\n",
       "      <td>-1.617287</td>\n",
       "      <td>0.055161</td>\n",
       "      <td>0.139064</td>\n",
       "      <td>0.180317</td>\n",
       "      <td>0.517792</td>\n",
       "      <td>0.116878</td>\n",
       "    </tr>\n",
       "    <tr>\n",
       "      <th>std</th>\n",
       "      <td>3196.144417</td>\n",
       "      <td>4.276576</td>\n",
       "      <td>8.495929</td>\n",
       "      <td>11.818426</td>\n",
       "      <td>22.372823</td>\n",
       "      <td>4.762773</td>\n",
       "      <td>1.972806</td>\n",
       "      <td>1.161063</td>\n",
       "      <td>6.507489</td>\n",
       "      <td>0.038209</td>\n",
       "      <td>0.051603</td>\n",
       "      <td>0.043201</td>\n",
       "      <td>0.055979</td>\n",
       "      <td>0.071290</td>\n",
       "    </tr>\n",
       "    <tr>\n",
       "      <th>min</th>\n",
       "      <td>1.000000</td>\n",
       "      <td>18.000000</td>\n",
       "      <td>177.800000</td>\n",
       "      <td>68.038800</td>\n",
       "      <td>1.000000</td>\n",
       "      <td>0.300000</td>\n",
       "      <td>0.000000</td>\n",
       "      <td>0.000000</td>\n",
       "      <td>-20.500000</td>\n",
       "      <td>0.000000</td>\n",
       "      <td>0.000000</td>\n",
       "      <td>0.050000</td>\n",
       "      <td>0.360000</td>\n",
       "      <td>0.000000</td>\n",
       "    </tr>\n",
       "    <tr>\n",
       "      <th>25%</th>\n",
       "      <td>2805.000000</td>\n",
       "      <td>24.000000</td>\n",
       "      <td>195.580000</td>\n",
       "      <td>92.986360</td>\n",
       "      <td>38.000000</td>\n",
       "      <td>3.900000</td>\n",
       "      <td>1.900000</td>\n",
       "      <td>0.600000</td>\n",
       "      <td>-6.000000</td>\n",
       "      <td>0.023000</td>\n",
       "      <td>0.098000</td>\n",
       "      <td>0.150000</td>\n",
       "      <td>0.483000</td>\n",
       "      <td>0.065000</td>\n",
       "    </tr>\n",
       "    <tr>\n",
       "      <th>50%</th>\n",
       "      <td>5577.000000</td>\n",
       "      <td>27.000000</td>\n",
       "      <td>203.200000</td>\n",
       "      <td>100.697424</td>\n",
       "      <td>59.000000</td>\n",
       "      <td>6.500000</td>\n",
       "      <td>3.000000</td>\n",
       "      <td>1.200000</td>\n",
       "      <td>-1.400000</td>\n",
       "      <td>0.044000</td>\n",
       "      <td>0.133000</td>\n",
       "      <td>0.179000</td>\n",
       "      <td>0.521000</td>\n",
       "      <td>0.098000</td>\n",
       "    </tr>\n",
       "    <tr>\n",
       "      <th>75%</th>\n",
       "      <td>8330.500000</td>\n",
       "      <td>30.000000</td>\n",
       "      <td>208.280000</td>\n",
       "      <td>108.862080</td>\n",
       "      <td>74.000000</td>\n",
       "      <td>10.300000</td>\n",
       "      <td>4.600000</td>\n",
       "      <td>2.100000</td>\n",
       "      <td>2.700000</td>\n",
       "      <td>0.084000</td>\n",
       "      <td>0.177000</td>\n",
       "      <td>0.210000</td>\n",
       "      <td>0.554500</td>\n",
       "      <td>0.154000</td>\n",
       "    </tr>\n",
       "    <tr>\n",
       "      <th>max</th>\n",
       "      <td>11144.000000</td>\n",
       "      <td>39.000000</td>\n",
       "      <td>226.060000</td>\n",
       "      <td>136.077600</td>\n",
       "      <td>85.000000</td>\n",
       "      <td>23.500000</td>\n",
       "      <td>9.000000</td>\n",
       "      <td>5.100000</td>\n",
       "      <td>17.200000</td>\n",
       "      <td>0.181000</td>\n",
       "      <td>0.311000</td>\n",
       "      <td>0.319000</td>\n",
       "      <td>0.675000</td>\n",
       "      <td>0.347000</td>\n",
       "    </tr>\n",
       "  </tbody>\n",
       "</table>\n",
       "</div>"
      ],
      "text/plain": [
       "           PlayerID          age  player_height  player_weight           gp  \\\n",
       "count   8735.000000  8735.000000    8735.000000    8735.000000  8735.000000   \n",
       "mean    5560.530052    27.148254     201.210232     100.899068    54.590384   \n",
       "std     3196.144417     4.276576       8.495929      11.818426    22.372823   \n",
       "min        1.000000    18.000000     177.800000      68.038800     1.000000   \n",
       "25%     2805.000000    24.000000     195.580000      92.986360    38.000000   \n",
       "50%     5577.000000    27.000000     203.200000     100.697424    59.000000   \n",
       "75%     8330.500000    30.000000     208.280000     108.862080    74.000000   \n",
       "max    11144.000000    39.000000     226.060000     136.077600    85.000000   \n",
       "\n",
       "               pts          reb          ast   net_rating     oreb_pct  \\\n",
       "count  8735.000000  8735.000000  8735.000000  8735.000000  8735.000000   \n",
       "mean      7.619977     3.391082     1.502873    -1.617287     0.055161   \n",
       "std       4.762773     1.972806     1.161063     6.507489     0.038209   \n",
       "min       0.300000     0.000000     0.000000   -20.500000     0.000000   \n",
       "25%       3.900000     1.900000     0.600000    -6.000000     0.023000   \n",
       "50%       6.500000     3.000000     1.200000    -1.400000     0.044000   \n",
       "75%      10.300000     4.600000     2.100000     2.700000     0.084000   \n",
       "max      23.500000     9.000000     5.100000    17.200000     0.181000   \n",
       "\n",
       "          dreb_pct      usg_pct       ts_pct      ast_pct  \n",
       "count  8735.000000  8735.000000  8735.000000  8735.000000  \n",
       "mean      0.139064     0.180317     0.517792     0.116878  \n",
       "std       0.051603     0.043201     0.055979     0.071290  \n",
       "min       0.000000     0.050000     0.360000     0.000000  \n",
       "25%       0.098000     0.150000     0.483000     0.065000  \n",
       "50%       0.133000     0.179000     0.521000     0.098000  \n",
       "75%       0.177000     0.210000     0.554500     0.154000  \n",
       "max       0.311000     0.319000     0.675000     0.347000  "
      ]
     },
     "execution_count": 25,
     "metadata": {},
     "output_type": "execute_result"
    }
   ],
   "source": [
    "#df describes the dataset. It shows the mean, min, max and other \n",
    "#statistucaal summary variables that could be necessary in the data analyiss\n",
    "df.describe()"
   ]
  },
  {
   "cell_type": "code",
   "execution_count": 26,
   "metadata": {},
   "outputs": [
    {
     "data": {
      "image/png": "[encoded data removed]",
      "text/plain": [
       "<Figure size 720x432 with 1 Axes>"
      ]
     },
     "metadata": {
      "needs_background": "light"
     },
     "output_type": "display_data"
    }
   ],
   "source": [
    "#The first data visualization that shows if there is a relationship\n",
    "#between age and points. There is no clear pattern between age and the amount of points scored,\n",
    "#so I would not expect that to be a factor in the model\n",
    "fig, ax = plt.subplots(figsize=(10,6))\n",
    "ax.scatter(df['age'], df['pts'])\n",
    "ax.set_xlabel('age')\n",
    "ax.set_ylabel('Points')\n",
    "plt.show()"
   ]
  },
  {
   "cell_type": "code",
   "execution_count": 27,
   "metadata": {},
   "outputs": [
    {
     "data": {
      "image/png": "[encoded data removed]",
      "text/plain": [
       "<Figure size 720x432 with 1 Axes>"
      ]
     },
     "metadata": {
      "needs_background": "light"
     },
     "output_type": "display_data"
    }
   ],
   "source": [
    "#The second graph that I wanted to see if height contributed to\n",
    "#to the most points scored. There is a positive trend, as in the taller you are, the more \n",
    "#points that you would score. This could be a feature that could be used in the model\n",
    "fig, ax = plt.subplots(figsize=(10,6))\n",
    "ax.scatter(df['player_height'], df['pts'])\n",
    "ax.set_xlabel('Height')\n",
    "ax.set_ylabel('Points')\n",
    "plt.show()"
   ]
  },
  {
   "cell_type": "code",
   "execution_count": 28,
   "metadata": {
    "scrolled": true
   },
   "outputs": [
    {
     "data": {
      "text/plain": [
       "Text(0,0.5,'Frequency')"
      ]
     },
     "execution_count": 28,
     "metadata": {},
     "output_type": "execute_result"
    },
    {
     "data": {
      "image/png": "[encoded data removed]",
      "text/plain": [
       "<Figure size 432x288 with 1 Axes>"
      ]
     },
     "metadata": {
      "needs_background": "light"
     },
     "output_type": "display_data"
    }
   ],
   "source": [
    "#This is just a frequency of points per game for every player\n",
    "#in the dataset. Most players average under 10 points per game and \n",
    "#this is why I want to predict what players were predicted to go over 10 points per game.\n",
    "fig, ax = plt.subplots()\n",
    "# plot histogram\n",
    "ax.hist(df['pts'])\n",
    "# set title and labels\n",
    "ax.set_title('Points Per Game')\n",
    "ax.set_xlabel('Points')\n",
    "ax.set_ylabel('Frequency')"
   ]
  },
  {
   "cell_type": "code",
   "execution_count": 29,
   "metadata": {},
   "outputs": [
    {
     "data": {
      "text/plain": [
       "<matplotlib.axes._subplots.AxesSubplot at 0x114b57048>"
      ]
     },
     "execution_count": 29,
     "metadata": {},
     "output_type": "execute_result"
    },
    {
     "data": {
      "image/png": "[encoded data removed]",
      "text/plain": [
       "<Figure size 432x288 with 1 Axes>"
      ]
     },
     "metadata": {
      "needs_background": "light"
     },
     "output_type": "display_data"
    }
   ],
   "source": [
    "#This shows which country a players from and how many points they average during\n",
    "#a season. Bahamas, Italy and UK average the most points. This could also\n",
    "#be due to a lack of players.\n",
    "df.groupby(\"country\").pts.mean().sort_values(ascending=False)[:5].plot.bar()\n"
   ]
  },
  {
   "cell_type": "code",
   "execution_count": 30,
   "metadata": {},
   "outputs": [
    {
     "data": {
      "text/plain": [
       "<matplotlib.axes._subplots.AxesSubplot at 0x114c58278>"
      ]
     },
     "execution_count": 30,
     "metadata": {},
     "output_type": "execute_result"
    },
    {
     "data": {
      "image/png": "[encoded data removed]",
      "text/plain": [
       "<Figure size 432x288 with 1 Axes>"
      ]
     },
     "metadata": {
      "needs_background": "light"
     },
     "output_type": "display_data"
    }
   ],
   "source": [
    "#This just shows a nice countplot of age which again shows that\n",
    "#age is not a factor as most of the players are ages 24-30\n",
    "sns.countplot(df['age'])\n"
   ]
  },
  {
   "cell_type": "code",
   "execution_count": 31,
   "metadata": {},
   "outputs": [
    {
     "data": {
      "text/plain": [
       "<matplotlib.axes._subplots.AxesSubplot at 0x114942d68>"
      ]
     },
     "execution_count": 31,
     "metadata": {},
     "output_type": "execute_result"
    },
    {
     "data": {
      "image/png": "[encoded data removed]",
      "text/plain": [
       "<Figure size 432x288 with 1 Axes>"
      ]
     },
     "metadata": {
      "needs_background": "light"
     },
     "output_type": "display_data"
    }
   ],
   "source": [
    "#This shows the teams that averages the most points in this dataset. \n",
    "#Overall, the Brooklyn Nets, Sacramento Kings, and Milwaukee Bucks\n",
    "#have the most average points\n",
    "df.groupby(\"team_abbreviation\").pts.mean().sort_values(ascending=False)[:5].plot.bar()\n"
   ]
  },
  {
   "cell_type": "code",
   "execution_count": 32,
   "metadata": {},
   "outputs": [
    {
     "data": {
      "text/plain": [
       "<matplotlib.axes._subplots.AxesSubplot at 0x114d236a0>"
      ]
     },
     "execution_count": 32,
     "metadata": {},
     "output_type": "execute_result"
    },
    {
     "data": {
      "image/png": "[encoded data removed]",
      "text/plain": [
       "<Figure size 432x288 with 1 Axes>"
      ]
     },
     "metadata": {
      "needs_background": "light"
     },
     "output_type": "display_data"
    }
   ],
   "source": [
    "#This shows the teams that averages the least points in this dataset. \n",
    "#Overall, the Toronto Raptors, Minnesota Timberwolves, and Philadelphia 76ers.\n",
    "#have the most average points\n",
    "df.groupby(\"team_abbreviation\").pts.mean().sort_values(ascending=False)[26:30].plot.bar()\n"
   ]
  },
  {
   "cell_type": "code",
   "execution_count": 33,
   "metadata": {},
   "outputs": [
    {
     "data": {
      "text/html": [
       "<div>\n",
       "<style scoped>\n",
       "    .dataframe tbody tr th:only-of-type {\n",
       "        vertical-align: middle;\n",
       "    }\n",
       "\n",
       "    .dataframe tbody tr th {\n",
       "        vertical-align: top;\n",
       "    }\n",
       "\n",
       "    .dataframe thead th {\n",
       "        text-align: right;\n",
       "    }\n",
       "</style>\n",
       "<table border=\"1\" class=\"dataframe\">\n",
       "  <thead>\n",
       "    <tr style=\"text-align: right;\">\n",
       "      <th></th>\n",
       "      <th>draft_year</th>\n",
       "      <th>pts</th>\n",
       "      <th>usg_pct</th>\n",
       "    </tr>\n",
       "  </thead>\n",
       "  <tbody>\n",
       "    <tr>\n",
       "      <th>0</th>\n",
       "      <td>1979</td>\n",
       "      <td>0.800000</td>\n",
       "      <td>0.103000</td>\n",
       "    </tr>\n",
       "    <tr>\n",
       "      <th>1</th>\n",
       "      <td>1980</td>\n",
       "      <td>2.450000</td>\n",
       "      <td>0.141000</td>\n",
       "    </tr>\n",
       "    <tr>\n",
       "      <th>2</th>\n",
       "      <td>1981</td>\n",
       "      <td>4.522222</td>\n",
       "      <td>0.152667</td>\n",
       "    </tr>\n",
       "    <tr>\n",
       "      <th>3</th>\n",
       "      <td>1982</td>\n",
       "      <td>7.480000</td>\n",
       "      <td>0.236300</td>\n",
       "    </tr>\n",
       "    <tr>\n",
       "      <th>4</th>\n",
       "      <td>1983</td>\n",
       "      <td>5.873684</td>\n",
       "      <td>0.161789</td>\n",
       "    </tr>\n",
       "    <tr>\n",
       "      <th>5</th>\n",
       "      <td>1984</td>\n",
       "      <td>7.850000</td>\n",
       "      <td>0.175917</td>\n",
       "    </tr>\n",
       "    <tr>\n",
       "      <th>6</th>\n",
       "      <td>1985</td>\n",
       "      <td>7.834848</td>\n",
       "      <td>0.166606</td>\n",
       "    </tr>\n",
       "    <tr>\n",
       "      <th>7</th>\n",
       "      <td>1986</td>\n",
       "      <td>7.631707</td>\n",
       "      <td>0.182171</td>\n",
       "    </tr>\n",
       "    <tr>\n",
       "      <th>8</th>\n",
       "      <td>1987</td>\n",
       "      <td>7.784483</td>\n",
       "      <td>0.162828</td>\n",
       "    </tr>\n",
       "    <tr>\n",
       "      <th>9</th>\n",
       "      <td>1988</td>\n",
       "      <td>6.918447</td>\n",
       "      <td>0.167854</td>\n",
       "    </tr>\n",
       "    <tr>\n",
       "      <th>10</th>\n",
       "      <td>1989</td>\n",
       "      <td>8.268041</td>\n",
       "      <td>0.179371</td>\n",
       "    </tr>\n",
       "    <tr>\n",
       "      <th>11</th>\n",
       "      <td>1990</td>\n",
       "      <td>7.137209</td>\n",
       "      <td>0.182829</td>\n",
       "    </tr>\n",
       "    <tr>\n",
       "      <th>12</th>\n",
       "      <td>1991</td>\n",
       "      <td>7.320339</td>\n",
       "      <td>0.179822</td>\n",
       "    </tr>\n",
       "    <tr>\n",
       "      <th>13</th>\n",
       "      <td>1992</td>\n",
       "      <td>8.235233</td>\n",
       "      <td>0.178057</td>\n",
       "    </tr>\n",
       "    <tr>\n",
       "      <th>14</th>\n",
       "      <td>1993</td>\n",
       "      <td>8.667081</td>\n",
       "      <td>0.185696</td>\n",
       "    </tr>\n",
       "    <tr>\n",
       "      <th>15</th>\n",
       "      <td>1994</td>\n",
       "      <td>8.632258</td>\n",
       "      <td>0.184567</td>\n",
       "    </tr>\n",
       "    <tr>\n",
       "      <th>16</th>\n",
       "      <td>1995</td>\n",
       "      <td>8.346792</td>\n",
       "      <td>0.183608</td>\n",
       "    </tr>\n",
       "    <tr>\n",
       "      <th>17</th>\n",
       "      <td>1996</td>\n",
       "      <td>8.432180</td>\n",
       "      <td>0.189734</td>\n",
       "    </tr>\n",
       "    <tr>\n",
       "      <th>18</th>\n",
       "      <td>1997</td>\n",
       "      <td>7.605072</td>\n",
       "      <td>0.186576</td>\n",
       "    </tr>\n",
       "    <tr>\n",
       "      <th>19</th>\n",
       "      <td>1998</td>\n",
       "      <td>8.851811</td>\n",
       "      <td>0.192630</td>\n",
       "    </tr>\n",
       "    <tr>\n",
       "      <th>20</th>\n",
       "      <td>1999</td>\n",
       "      <td>8.578623</td>\n",
       "      <td>0.188152</td>\n",
       "    </tr>\n",
       "    <tr>\n",
       "      <th>21</th>\n",
       "      <td>2000</td>\n",
       "      <td>7.325776</td>\n",
       "      <td>0.181416</td>\n",
       "    </tr>\n",
       "    <tr>\n",
       "      <th>22</th>\n",
       "      <td>2001</td>\n",
       "      <td>7.850342</td>\n",
       "      <td>0.169894</td>\n",
       "    </tr>\n",
       "    <tr>\n",
       "      <th>23</th>\n",
       "      <td>2002</td>\n",
       "      <td>8.175439</td>\n",
       "      <td>0.187365</td>\n",
       "    </tr>\n",
       "    <tr>\n",
       "      <th>24</th>\n",
       "      <td>2003</td>\n",
       "      <td>8.178402</td>\n",
       "      <td>0.184249</td>\n",
       "    </tr>\n",
       "    <tr>\n",
       "      <th>25</th>\n",
       "      <td>2004</td>\n",
       "      <td>8.246953</td>\n",
       "      <td>0.181774</td>\n",
       "    </tr>\n",
       "    <tr>\n",
       "      <th>26</th>\n",
       "      <td>2005</td>\n",
       "      <td>7.987540</td>\n",
       "      <td>0.186281</td>\n",
       "    </tr>\n",
       "    <tr>\n",
       "      <th>27</th>\n",
       "      <td>2006</td>\n",
       "      <td>7.915649</td>\n",
       "      <td>0.183706</td>\n",
       "    </tr>\n",
       "    <tr>\n",
       "      <th>28</th>\n",
       "      <td>2007</td>\n",
       "      <td>8.603546</td>\n",
       "      <td>0.186191</td>\n",
       "    </tr>\n",
       "    <tr>\n",
       "      <th>29</th>\n",
       "      <td>2008</td>\n",
       "      <td>9.339490</td>\n",
       "      <td>0.191707</td>\n",
       "    </tr>\n",
       "    <tr>\n",
       "      <th>30</th>\n",
       "      <td>2009</td>\n",
       "      <td>7.870588</td>\n",
       "      <td>0.186136</td>\n",
       "    </tr>\n",
       "    <tr>\n",
       "      <th>31</th>\n",
       "      <td>2010</td>\n",
       "      <td>7.235545</td>\n",
       "      <td>0.175218</td>\n",
       "    </tr>\n",
       "    <tr>\n",
       "      <th>32</th>\n",
       "      <td>2011</td>\n",
       "      <td>9.136842</td>\n",
       "      <td>0.191575</td>\n",
       "    </tr>\n",
       "    <tr>\n",
       "      <th>33</th>\n",
       "      <td>2012</td>\n",
       "      <td>7.862445</td>\n",
       "      <td>0.180153</td>\n",
       "    </tr>\n",
       "    <tr>\n",
       "      <th>34</th>\n",
       "      <td>2013</td>\n",
       "      <td>7.758294</td>\n",
       "      <td>0.173441</td>\n",
       "    </tr>\n",
       "    <tr>\n",
       "      <th>35</th>\n",
       "      <td>2014</td>\n",
       "      <td>8.399444</td>\n",
       "      <td>0.186206</td>\n",
       "    </tr>\n",
       "    <tr>\n",
       "      <th>36</th>\n",
       "      <td>2015</td>\n",
       "      <td>8.084810</td>\n",
       "      <td>0.182829</td>\n",
       "    </tr>\n",
       "    <tr>\n",
       "      <th>37</th>\n",
       "      <td>2016</td>\n",
       "      <td>7.078626</td>\n",
       "      <td>0.177008</td>\n",
       "    </tr>\n",
       "    <tr>\n",
       "      <th>38</th>\n",
       "      <td>2017</td>\n",
       "      <td>7.326724</td>\n",
       "      <td>0.169181</td>\n",
       "    </tr>\n",
       "    <tr>\n",
       "      <th>39</th>\n",
       "      <td>2018</td>\n",
       "      <td>7.092500</td>\n",
       "      <td>0.173712</td>\n",
       "    </tr>\n",
       "    <tr>\n",
       "      <th>40</th>\n",
       "      <td>2019</td>\n",
       "      <td>6.945946</td>\n",
       "      <td>0.173108</td>\n",
       "    </tr>\n",
       "    <tr>\n",
       "      <th>41</th>\n",
       "      <td>Undrafted</td>\n",
       "      <td>5.246411</td>\n",
       "      <td>0.166798</td>\n",
       "    </tr>\n",
       "  </tbody>\n",
       "</table>\n",
       "</div>"
      ],
      "text/plain": [
       "   draft_year       pts   usg_pct\n",
       "0        1979  0.800000  0.103000\n",
       "1        1980  2.450000  0.141000\n",
       "2        1981  4.522222  0.152667\n",
       "3        1982  7.480000  0.236300\n",
       "4        1983  5.873684  0.161789\n",
       "5        1984  7.850000  0.175917\n",
       "6        1985  7.834848  0.166606\n",
       "7        1986  7.631707  0.182171\n",
       "8        1987  7.784483  0.162828\n",
       "9        1988  6.918447  0.167854\n",
       "10       1989  8.268041  0.179371\n",
       "11       1990  7.137209  0.182829\n",
       "12       1991  7.320339  0.179822\n",
       "13       1992  8.235233  0.178057\n",
       "14       1993  8.667081  0.185696\n",
       "15       1994  8.632258  0.184567\n",
       "16       1995  8.346792  0.183608\n",
       "17       1996  8.432180  0.189734\n",
       "18       1997  7.605072  0.186576\n",
       "19       1998  8.851811  0.192630\n",
       "20       1999  8.578623  0.188152\n",
       "21       2000  7.325776  0.181416\n",
       "22       2001  7.850342  0.169894\n",
       "23       2002  8.175439  0.187365\n",
       "24       2003  8.178402  0.184249\n",
       "25       2004  8.246953  0.181774\n",
       "26       2005  7.987540  0.186281\n",
       "27       2006  7.915649  0.183706\n",
       "28       2007  8.603546  0.186191\n",
       "29       2008  9.339490  0.191707\n",
       "30       2009  7.870588  0.186136\n",
       "31       2010  7.235545  0.175218\n",
       "32       2011  9.136842  0.191575\n",
       "33       2012  7.862445  0.180153\n",
       "34       2013  7.758294  0.173441\n",
       "35       2014  8.399444  0.186206\n",
       "36       2015  8.084810  0.182829\n",
       "37       2016  7.078626  0.177008\n",
       "38       2017  7.326724  0.169181\n",
       "39       2018  7.092500  0.173712\n",
       "40       2019  6.945946  0.173108\n",
       "41  Undrafted  5.246411  0.166798"
      ]
     },
     "execution_count": 33,
     "metadata": {},
     "output_type": "execute_result"
    }
   ],
   "source": [
    "#grouping by draft_year and getting the mean of points and usage percentage\n",
    "df1=df.groupby([\"draft_year\"]).agg({\"pts\":'mean',\"usg_pct\":'mean'}).reset_index()\n",
    "df1\n"
   ]
  },
  {
   "cell_type": "code",
   "execution_count": 34,
   "metadata": {},
   "outputs": [
    {
     "data": {
      "image/png": "[encoded data removed]",
      "text/plain": [
       "<Figure size 720x432 with 1 Axes>"
      ]
     },
     "metadata": {
      "needs_background": "light"
     },
     "output_type": "display_data"
    }
   ],
   "source": [
    "#plotting the points per draft class over time. There is a clear cyclical but is seems\n",
    "#to be dippd down in recent years.\n",
    "fig=plt.figure(figsize=(10,6))\n",
    "\n",
    "ax1=fig.add_axes([0,0,1,1])\n",
    "\n",
    "\n",
    "ax1.set_title(\"Points Per Year\")\n",
    "\n",
    "ax1.plot(df1['draft_year'],\n",
    "         df1['pts'],\n",
    "          color='blue')\n",
    "\n",
    "\n",
    "\n",
    "plt.show()"
   ]
  },
  {
   "cell_type": "code",
   "execution_count": 35,
   "metadata": {},
   "outputs": [],
   "source": [
    "#Our overall goal of this assignment is to predict whether a given player will average more than 10 points per game given their attributes\n",
    "#Setting a 1 if points were above 10 and 0 if they were below 10\n",
    "df['point']=[0 if x<10 else 1 for x in df['pts']]\n",
    "#Creating an X dataframe from the original df in which the people who scored\n",
    "#more than 10 points per game weere dropped.\n",
    "X=df.drop('point',1)\n",
    "#Y is just the point variable\n",
    "Y=df.point\n",
    "\n"
   ]
  },
  {
   "cell_type": "code",
   "execution_count": 36,
   "metadata": {},
   "outputs": [
    {
     "name": "stdout",
     "output_type": "stream",
     "text": [
      "1      0\n",
      "2      0\n",
      "3      0\n",
      "4      0\n",
      "5      0\n",
      "      ..\n",
      "241    0\n",
      "244    0\n",
      "245    0\n",
      "246    1\n",
      "248    0\n",
      "Name: point, Length: 200, dtype: int64\n"
     ]
    }
   ],
   "source": [
    "print(Y.head(200))"
   ]
  },
  {
   "cell_type": "code",
   "execution_count": 37,
   "metadata": {},
   "outputs": [
    {
     "name": "stdout",
     "output_type": "stream",
     "text": [
      "1    LAC\n",
      "2    TOR\n",
      "3    DAL\n",
      "4    MIA\n",
      "5    HOU\n",
      "Name: team_abbreviation, dtype: object\n",
      "   DAL  HOU  LAC  MIA  TOR\n",
      "1    0    0    1    0    0\n",
      "2    0    0    0    0    1\n",
      "3    1    0    0    0    0\n",
      "4    0    0    0    1    0\n",
      "5    0    1    0    0    0\n"
     ]
    }
   ],
   "source": [
    "#testing out get dummies\n",
    "print(X['team_abbreviation'].head(5))\n",
    "print(pd.get_dummies(X['team_abbreviation'].head(5)))"
   ]
  },
  {
   "cell_type": "code",
   "execution_count": 38,
   "metadata": {},
   "outputs": [
    {
     "name": "stdout",
     "output_type": "stream",
     "text": [
      "Feature 'team_abbreviation' has 36 unique categories\n",
      "Feature 'country' has 71 unique categories\n",
      "Feature 'draft_year' has 42 unique categories\n",
      "Feature 'draft_round' has 7 unique categories\n",
      "Feature 'draft_number' has 71 unique categories\n",
      "Feature 'season' has 24 unique categories\n"
     ]
    }
   ],
   "source": [
    "#getting the amount of categories in each column to determine which features i want to change\n",
    "for col_name in X.columns:\n",
    "    if X[col_name].dtypes=='object':\n",
    "        unique_cat = len(X[col_name].unique())\n",
    "        print(\"Feature '{col_name}' has {unique_cat} unique categories\".format\n",
    "              (col_name=col_name,unique_cat=unique_cat))"
   ]
  },
  {
   "cell_type": "code",
   "execution_count": 39,
   "metadata": {},
   "outputs": [
    {
     "name": "stdout",
     "output_type": "stream",
     "text": [
      "USA              7368\n",
      "International    1367\n",
      "Name: country, dtype: int64\n"
     ]
    }
   ],
   "source": [
    "#changing the country to USA and Other to only have two categories\n",
    "X['country'] =['USA' if x==\"USA\" else 'International' for x in X['country']]\n",
    "print(X['country'].value_counts().sort_values(ascending=False))"
   ]
  },
  {
   "cell_type": "code",
   "execution_count": 40,
   "metadata": {},
   "outputs": [],
   "source": [
    "dummies=['country', 'team_abbreviation','draft_year','draft_round','draft_number',\"season\"]\n"
   ]
  },
  {
   "cell_type": "code",
   "execution_count": 41,
   "metadata": {},
   "outputs": [],
   "source": [
    "#creating a function to using encoding (dummies) to all categorical variables.\n",
    "\n",
    "def dummy(df,dummies):\n",
    "    for x in dummies:\n",
    "        dummie=pd.get_dummies(df[x], prefix=x, dummy_na=False)\n",
    "        df=df.drop(x,1)\n",
    "        df=pd.concat([df,dummie],axis=1)\n",
    "    return df"
   ]
  },
  {
   "cell_type": "code",
   "execution_count": 42,
   "metadata": {},
   "outputs": [
    {
     "name": "stdout",
     "output_type": "stream",
     "text": [
      "   PlayerID  age  player_height  player_weight  gp  pts  reb  ast  net_rating  \\\n",
      "1         1   28         215.90     117.933920  15  2.3  1.5  0.3        12.3   \n",
      "2         2   39         205.74      95.254320   9  0.8  1.0  0.4        -2.1   \n",
      "3         3   24         203.20     100.697424  64  3.7  2.3  0.6        -8.7   \n",
      "4         4   34         205.74     108.862080  27  2.4  2.4  0.2       -11.2   \n",
      "5         5   38         200.66      97.522280  52  8.2  2.7  1.0         4.1   \n",
      "\n",
      "   oreb_pct  ...  season_2010-11  season_2011-12  season_2012-13  \\\n",
      "1     0.078  ...               0               0               0   \n",
      "2     0.105  ...               0               0               0   \n",
      "3     0.060  ...               0               0               0   \n",
      "4     0.109  ...               0               0               0   \n",
      "5     0.034  ...               0               0               0   \n",
      "\n",
      "   season_2013-14  season_2014-15  season_2015-16  season_2016-17  \\\n",
      "1               0               0               0               0   \n",
      "2               0               0               0               0   \n",
      "3               0               0               0               0   \n",
      "4               0               0               0               0   \n",
      "5               0               0               0               0   \n",
      "\n",
      "   season_2017-18  season_2018-19  season_2019-20  \n",
      "1               0               0               0  \n",
      "2               0               0               0  \n",
      "3               0               0               0  \n",
      "4               0               0               0  \n",
      "5               0               0               0  \n",
      "\n",
      "[5 rows x 196 columns]\n"
     ]
    }
   ],
   "source": [
    "#applying it to our dataset, which creates a lot more columns\n",
    "X=dummy(X,dummies)\n",
    "print(X.head(5))"
   ]
  },
  {
   "cell_type": "code",
   "execution_count": 43,
   "metadata": {},
   "outputs": [],
   "source": [
    "#using SimpleIMputer to get rid of the NA that may have formed when were\n",
    "#transformed the dataset\n",
    "import sklearn\n",
    "from sklearn.impute import SimpleImputer\n",
    "\n",
    "imp = SimpleImputer(missing_values=np.nan, strategy='mean')\n",
    "imp.fit(X)\n",
    "X=pd.DataFrame(data=imp.transform(X),columns=X.columns)"
   ]
  },
  {
   "cell_type": "code",
   "execution_count": 44,
   "metadata": {},
   "outputs": [
    {
     "data": {
      "text/html": [
       "<div>\n",
       "<style scoped>\n",
       "    .dataframe tbody tr th:only-of-type {\n",
       "        vertical-align: middle;\n",
       "    }\n",
       "\n",
       "    .dataframe tbody tr th {\n",
       "        vertical-align: top;\n",
       "    }\n",
       "\n",
       "    .dataframe thead th {\n",
       "        text-align: right;\n",
       "    }\n",
       "</style>\n",
       "<table border=\"1\" class=\"dataframe\">\n",
       "  <thead>\n",
       "    <tr style=\"text-align: right;\">\n",
       "      <th></th>\n",
       "      <th>PlayerID</th>\n",
       "      <th>age</th>\n",
       "      <th>player_height</th>\n",
       "      <th>player_weight</th>\n",
       "      <th>gp</th>\n",
       "      <th>pts</th>\n",
       "      <th>reb</th>\n",
       "      <th>ast</th>\n",
       "      <th>net_rating</th>\n",
       "      <th>oreb_pct</th>\n",
       "      <th>...</th>\n",
       "      <th>season_2010-11</th>\n",
       "      <th>season_2011-12</th>\n",
       "      <th>season_2012-13</th>\n",
       "      <th>season_2013-14</th>\n",
       "      <th>season_2014-15</th>\n",
       "      <th>season_2015-16</th>\n",
       "      <th>season_2016-17</th>\n",
       "      <th>season_2017-18</th>\n",
       "      <th>season_2018-19</th>\n",
       "      <th>season_2019-20</th>\n",
       "    </tr>\n",
       "  </thead>\n",
       "  <tbody>\n",
       "    <tr>\n",
       "      <th>0</th>\n",
       "      <td>1.0</td>\n",
       "      <td>28.0</td>\n",
       "      <td>215.90</td>\n",
       "      <td>117.933920</td>\n",
       "      <td>15.0</td>\n",
       "      <td>2.3</td>\n",
       "      <td>1.5</td>\n",
       "      <td>0.3</td>\n",
       "      <td>12.3</td>\n",
       "      <td>0.078</td>\n",
       "      <td>...</td>\n",
       "      <td>0.0</td>\n",
       "      <td>0.0</td>\n",
       "      <td>0.0</td>\n",
       "      <td>0.0</td>\n",
       "      <td>0.0</td>\n",
       "      <td>0.0</td>\n",
       "      <td>0.0</td>\n",
       "      <td>0.0</td>\n",
       "      <td>0.0</td>\n",
       "      <td>0.0</td>\n",
       "    </tr>\n",
       "    <tr>\n",
       "      <th>1</th>\n",
       "      <td>2.0</td>\n",
       "      <td>39.0</td>\n",
       "      <td>205.74</td>\n",
       "      <td>95.254320</td>\n",
       "      <td>9.0</td>\n",
       "      <td>0.8</td>\n",
       "      <td>1.0</td>\n",
       "      <td>0.4</td>\n",
       "      <td>-2.1</td>\n",
       "      <td>0.105</td>\n",
       "      <td>...</td>\n",
       "      <td>0.0</td>\n",
       "      <td>0.0</td>\n",
       "      <td>0.0</td>\n",
       "      <td>0.0</td>\n",
       "      <td>0.0</td>\n",
       "      <td>0.0</td>\n",
       "      <td>0.0</td>\n",
       "      <td>0.0</td>\n",
       "      <td>0.0</td>\n",
       "      <td>0.0</td>\n",
       "    </tr>\n",
       "    <tr>\n",
       "      <th>2</th>\n",
       "      <td>3.0</td>\n",
       "      <td>24.0</td>\n",
       "      <td>203.20</td>\n",
       "      <td>100.697424</td>\n",
       "      <td>64.0</td>\n",
       "      <td>3.7</td>\n",
       "      <td>2.3</td>\n",
       "      <td>0.6</td>\n",
       "      <td>-8.7</td>\n",
       "      <td>0.060</td>\n",
       "      <td>...</td>\n",
       "      <td>0.0</td>\n",
       "      <td>0.0</td>\n",
       "      <td>0.0</td>\n",
       "      <td>0.0</td>\n",
       "      <td>0.0</td>\n",
       "      <td>0.0</td>\n",
       "      <td>0.0</td>\n",
       "      <td>0.0</td>\n",
       "      <td>0.0</td>\n",
       "      <td>0.0</td>\n",
       "    </tr>\n",
       "    <tr>\n",
       "      <th>3</th>\n",
       "      <td>4.0</td>\n",
       "      <td>34.0</td>\n",
       "      <td>205.74</td>\n",
       "      <td>108.862080</td>\n",
       "      <td>27.0</td>\n",
       "      <td>2.4</td>\n",
       "      <td>2.4</td>\n",
       "      <td>0.2</td>\n",
       "      <td>-11.2</td>\n",
       "      <td>0.109</td>\n",
       "      <td>...</td>\n",
       "      <td>0.0</td>\n",
       "      <td>0.0</td>\n",
       "      <td>0.0</td>\n",
       "      <td>0.0</td>\n",
       "      <td>0.0</td>\n",
       "      <td>0.0</td>\n",
       "      <td>0.0</td>\n",
       "      <td>0.0</td>\n",
       "      <td>0.0</td>\n",
       "      <td>0.0</td>\n",
       "    </tr>\n",
       "    <tr>\n",
       "      <th>4</th>\n",
       "      <td>5.0</td>\n",
       "      <td>38.0</td>\n",
       "      <td>200.66</td>\n",
       "      <td>97.522280</td>\n",
       "      <td>52.0</td>\n",
       "      <td>8.2</td>\n",
       "      <td>2.7</td>\n",
       "      <td>1.0</td>\n",
       "      <td>4.1</td>\n",
       "      <td>0.034</td>\n",
       "      <td>...</td>\n",
       "      <td>0.0</td>\n",
       "      <td>0.0</td>\n",
       "      <td>0.0</td>\n",
       "      <td>0.0</td>\n",
       "      <td>0.0</td>\n",
       "      <td>0.0</td>\n",
       "      <td>0.0</td>\n",
       "      <td>0.0</td>\n",
       "      <td>0.0</td>\n",
       "      <td>0.0</td>\n",
       "    </tr>\n",
       "    <tr>\n",
       "      <th>...</th>\n",
       "      <td>...</td>\n",
       "      <td>...</td>\n",
       "      <td>...</td>\n",
       "      <td>...</td>\n",
       "      <td>...</td>\n",
       "      <td>...</td>\n",
       "      <td>...</td>\n",
       "      <td>...</td>\n",
       "      <td>...</td>\n",
       "      <td>...</td>\n",
       "      <td>...</td>\n",
       "      <td>...</td>\n",
       "      <td>...</td>\n",
       "      <td>...</td>\n",
       "      <td>...</td>\n",
       "      <td>...</td>\n",
       "      <td>...</td>\n",
       "      <td>...</td>\n",
       "      <td>...</td>\n",
       "      <td>...</td>\n",
       "      <td>...</td>\n",
       "    </tr>\n",
       "    <tr>\n",
       "      <th>8730</th>\n",
       "      <td>11140.0</td>\n",
       "      <td>28.0</td>\n",
       "      <td>208.28</td>\n",
       "      <td>108.862080</td>\n",
       "      <td>63.0</td>\n",
       "      <td>9.1</td>\n",
       "      <td>5.4</td>\n",
       "      <td>1.1</td>\n",
       "      <td>4.6</td>\n",
       "      <td>0.056</td>\n",
       "      <td>...</td>\n",
       "      <td>0.0</td>\n",
       "      <td>0.0</td>\n",
       "      <td>0.0</td>\n",
       "      <td>0.0</td>\n",
       "      <td>0.0</td>\n",
       "      <td>0.0</td>\n",
       "      <td>0.0</td>\n",
       "      <td>0.0</td>\n",
       "      <td>0.0</td>\n",
       "      <td>1.0</td>\n",
       "    </tr>\n",
       "    <tr>\n",
       "      <th>8731</th>\n",
       "      <td>11141.0</td>\n",
       "      <td>23.0</td>\n",
       "      <td>195.58</td>\n",
       "      <td>97.522280</td>\n",
       "      <td>15.0</td>\n",
       "      <td>1.2</td>\n",
       "      <td>0.3</td>\n",
       "      <td>0.1</td>\n",
       "      <td>-2.4</td>\n",
       "      <td>0.018</td>\n",
       "      <td>...</td>\n",
       "      <td>0.0</td>\n",
       "      <td>0.0</td>\n",
       "      <td>0.0</td>\n",
       "      <td>0.0</td>\n",
       "      <td>0.0</td>\n",
       "      <td>0.0</td>\n",
       "      <td>0.0</td>\n",
       "      <td>0.0</td>\n",
       "      <td>0.0</td>\n",
       "      <td>1.0</td>\n",
       "    </tr>\n",
       "    <tr>\n",
       "      <th>8732</th>\n",
       "      <td>11142.0</td>\n",
       "      <td>28.0</td>\n",
       "      <td>213.36</td>\n",
       "      <td>117.933920</td>\n",
       "      <td>49.0</td>\n",
       "      <td>6.1</td>\n",
       "      <td>5.1</td>\n",
       "      <td>1.1</td>\n",
       "      <td>5.6</td>\n",
       "      <td>0.029</td>\n",
       "      <td>...</td>\n",
       "      <td>0.0</td>\n",
       "      <td>0.0</td>\n",
       "      <td>0.0</td>\n",
       "      <td>0.0</td>\n",
       "      <td>0.0</td>\n",
       "      <td>0.0</td>\n",
       "      <td>0.0</td>\n",
       "      <td>0.0</td>\n",
       "      <td>0.0</td>\n",
       "      <td>1.0</td>\n",
       "    </tr>\n",
       "    <tr>\n",
       "      <th>8733</th>\n",
       "      <td>11143.0</td>\n",
       "      <td>27.0</td>\n",
       "      <td>208.28</td>\n",
       "      <td>104.779752</td>\n",
       "      <td>20.0</td>\n",
       "      <td>2.1</td>\n",
       "      <td>3.0</td>\n",
       "      <td>0.4</td>\n",
       "      <td>-16.4</td>\n",
       "      <td>0.085</td>\n",
       "      <td>...</td>\n",
       "      <td>0.0</td>\n",
       "      <td>0.0</td>\n",
       "      <td>0.0</td>\n",
       "      <td>0.0</td>\n",
       "      <td>0.0</td>\n",
       "      <td>0.0</td>\n",
       "      <td>0.0</td>\n",
       "      <td>0.0</td>\n",
       "      <td>0.0</td>\n",
       "      <td>1.0</td>\n",
       "    </tr>\n",
       "    <tr>\n",
       "      <th>8734</th>\n",
       "      <td>11144.0</td>\n",
       "      <td>25.0</td>\n",
       "      <td>193.04</td>\n",
       "      <td>86.182480</td>\n",
       "      <td>31.0</td>\n",
       "      <td>4.5</td>\n",
       "      <td>1.4</td>\n",
       "      <td>0.5</td>\n",
       "      <td>1.0</td>\n",
       "      <td>0.017</td>\n",
       "      <td>...</td>\n",
       "      <td>0.0</td>\n",
       "      <td>0.0</td>\n",
       "      <td>0.0</td>\n",
       "      <td>0.0</td>\n",
       "      <td>0.0</td>\n",
       "      <td>0.0</td>\n",
       "      <td>0.0</td>\n",
       "      <td>0.0</td>\n",
       "      <td>0.0</td>\n",
       "      <td>1.0</td>\n",
       "    </tr>\n",
       "  </tbody>\n",
       "</table>\n",
       "<p>8735 rows × 196 columns</p>\n",
       "</div>"
      ],
      "text/plain": [
       "      PlayerID   age  player_height  player_weight    gp  pts  reb  ast  \\\n",
       "0          1.0  28.0         215.90     117.933920  15.0  2.3  1.5  0.3   \n",
       "1          2.0  39.0         205.74      95.254320   9.0  0.8  1.0  0.4   \n",
       "2          3.0  24.0         203.20     100.697424  64.0  3.7  2.3  0.6   \n",
       "3          4.0  34.0         205.74     108.862080  27.0  2.4  2.4  0.2   \n",
       "4          5.0  38.0         200.66      97.522280  52.0  8.2  2.7  1.0   \n",
       "...        ...   ...            ...            ...   ...  ...  ...  ...   \n",
       "8730   11140.0  28.0         208.28     108.862080  63.0  9.1  5.4  1.1   \n",
       "8731   11141.0  23.0         195.58      97.522280  15.0  1.2  0.3  0.1   \n",
       "8732   11142.0  28.0         213.36     117.933920  49.0  6.1  5.1  1.1   \n",
       "8733   11143.0  27.0         208.28     104.779752  20.0  2.1  3.0  0.4   \n",
       "8734   11144.0  25.0         193.04      86.182480  31.0  4.5  1.4  0.5   \n",
       "\n",
       "      net_rating  oreb_pct  ...  season_2010-11  season_2011-12  \\\n",
       "0           12.3     0.078  ...             0.0             0.0   \n",
       "1           -2.1     0.105  ...             0.0             0.0   \n",
       "2           -8.7     0.060  ...             0.0             0.0   \n",
       "3          -11.2     0.109  ...             0.0             0.0   \n",
       "4            4.1     0.034  ...             0.0             0.0   \n",
       "...          ...       ...  ...             ...             ...   \n",
       "8730         4.6     0.056  ...             0.0             0.0   \n",
       "8731        -2.4     0.018  ...             0.0             0.0   \n",
       "8732         5.6     0.029  ...             0.0             0.0   \n",
       "8733       -16.4     0.085  ...             0.0             0.0   \n",
       "8734         1.0     0.017  ...             0.0             0.0   \n",
       "\n",
       "      season_2012-13  season_2013-14  season_2014-15  season_2015-16  \\\n",
       "0                0.0             0.0             0.0             0.0   \n",
       "1                0.0             0.0             0.0             0.0   \n",
       "2                0.0             0.0             0.0             0.0   \n",
       "3                0.0             0.0             0.0             0.0   \n",
       "4                0.0             0.0             0.0             0.0   \n",
       "...              ...             ...             ...             ...   \n",
       "8730             0.0             0.0             0.0             0.0   \n",
       "8731             0.0             0.0             0.0             0.0   \n",
       "8732             0.0             0.0             0.0             0.0   \n",
       "8733             0.0             0.0             0.0             0.0   \n",
       "8734             0.0             0.0             0.0             0.0   \n",
       "\n",
       "      season_2016-17  season_2017-18  season_2018-19  season_2019-20  \n",
       "0                0.0             0.0             0.0             0.0  \n",
       "1                0.0             0.0             0.0             0.0  \n",
       "2                0.0             0.0             0.0             0.0  \n",
       "3                0.0             0.0             0.0             0.0  \n",
       "4                0.0             0.0             0.0             0.0  \n",
       "...              ...             ...             ...             ...  \n",
       "8730             0.0             0.0             0.0             1.0  \n",
       "8731             0.0             0.0             0.0             1.0  \n",
       "8732             0.0             0.0             0.0             1.0  \n",
       "8733             0.0             0.0             0.0             1.0  \n",
       "8734             0.0             0.0             0.0             1.0  \n",
       "\n",
       "[8735 rows x 196 columns]"
      ]
     },
     "execution_count": 44,
     "metadata": {},
     "output_type": "execute_result"
    }
   ],
   "source": [
    "X"
   ]
  },
  {
   "cell_type": "code",
   "execution_count": 45,
   "metadata": {},
   "outputs": [],
   "source": [
    "#splitting the dataset into a training and test dataset\n",
    "from sklearn.model_selection import train_test_split\n",
    "X_train, X_test, y_train, y_test = train_test_split(X, Y, test_size=0.3, random_state=42)"
   ]
  },
  {
   "cell_type": "code",
   "execution_count": 46,
   "metadata": {},
   "outputs": [],
   "source": [
    "#scaler = StandardScaler()\n",
    "#X_train = scaler.fit_transform(X_train)\n",
    "#X_test = scaler.transform(X_test)"
   ]
  },
  {
   "cell_type": "code",
   "execution_count": 47,
   "metadata": {},
   "outputs": [],
   "source": [
    "import sklearn.feature_selection"
   ]
  },
  {
   "cell_type": "code",
   "execution_count": 48,
   "metadata": {},
   "outputs": [
    {
     "name": "stderr",
     "output_type": "stream",
     "text": [
      "/Library/Frameworks/Python.framework/Versions/3.6/lib/python3.6/site-packages/sklearn/feature_selection/_univariate_selection.py:114: UserWarning: Features [163] are constant.\n",
      "  UserWarning)\n",
      "/Library/Frameworks/Python.framework/Versions/3.6/lib/python3.6/site-packages/sklearn/feature_selection/_univariate_selection.py:115: RuntimeWarning: invalid value encountered in true_divide\n",
      "  f = msb / msw\n"
     ]
    }
   ],
   "source": [
    "#selecting which are the most important features in the model\n",
    "#This is done by using the feature_selection tool from sklearn.\n",
    "#This are the most important features.\n",
    "import sklearn.feature_selection\n",
    "\n",
    "select = sklearn.feature_selection.SelectKBest(k=20)\n",
    "selected_features = select.fit(X_train, y_train)\n",
    "indices_selected = selected_features.get_support(indices=True)\n",
    "colnames_selected = [X.columns[i] for i in indices_selected]\n",
    "\n",
    "X_train_selected = X_train[colnames_selected]\n",
    "X_test_selected = X_test[colnames_selected]"
   ]
  },
  {
   "cell_type": "code",
   "execution_count": 49,
   "metadata": {},
   "outputs": [
    {
     "data": {
      "text/plain": [
       "['gp',\n",
       " 'pts',\n",
       " 'reb',\n",
       " 'ast',\n",
       " 'net_rating',\n",
       " 'oreb_pct',\n",
       " 'usg_pct',\n",
       " 'ts_pct',\n",
       " 'ast_pct',\n",
       " 'draft_year_Undrafted',\n",
       " 'draft_round_1',\n",
       " 'draft_round_2',\n",
       " 'draft_round_Undrafted',\n",
       " 'draft_number_1',\n",
       " 'draft_number_2',\n",
       " 'draft_number_3',\n",
       " 'draft_number_4',\n",
       " 'draft_number_5',\n",
       " 'draft_number_7',\n",
       " 'draft_number_Undrafted']"
      ]
     },
     "execution_count": 49,
     "metadata": {},
     "output_type": "execute_result"
    }
   ],
   "source": [
    "#These reperesent the most importantn features to predict whether\n",
    "# a player will score more than 10 points per game.\n",
    "colnames_selected"
   ]
  },
  {
   "cell_type": "code",
   "execution_count": 51,
   "metadata": {},
   "outputs": [],
   "source": [
    "#Before I run the model, I tried to scale the trianing and test\n",
    "#dataset by using the StandardScaler.\n",
    "from sklearn.preprocessing import StandardScaler\n",
    "scaler = StandardScaler()\n",
    "X_train = scaler.fit_transform(X_train)\n",
    "X_test = scaler.transform(X_test)"
   ]
  },
  {
   "cell_type": "code",
   "execution_count": 52,
   "metadata": {},
   "outputs": [],
   "source": [
    "from sklearn.linear_model import LogisticRegression\n",
    "from sklearn.metrics import roc_auc_score"
   ]
  },
  {
   "cell_type": "code",
   "execution_count": 53,
   "metadata": {},
   "outputs": [],
   "source": [
    "#Since the points varible is binary, I want to use a logistic regression\n",
    "#predictions represent predictions and prob represents probabilities\n",
    "lr=LogisticRegression()\n",
    "lr.fit(X_train, y_train)\n",
    "predictions=lr.predict(X_test)\n",
    "\n",
    "prob=lr.predict_proba(X_test)"
   ]
  },
  {
   "cell_type": "code",
   "execution_count": 54,
   "metadata": {},
   "outputs": [
    {
     "name": "stdout",
     "output_type": "stream",
     "text": [
      "0.9793971766501335\n"
     ]
    }
   ],
   "source": [
    "#The model scored very well with a score of .97939\n",
    "score=lr.score(X_test,y_test)\n",
    "print(score)"
   ]
  },
  {
   "cell_type": "code",
   "execution_count": 55,
   "metadata": {},
   "outputs": [
    {
     "name": "stdout",
     "output_type": "stream",
     "text": [
      "Fitting 5 folds for each of 128 candidates, totalling 640 fits\n"
     ]
    },
    {
     "name": "stderr",
     "output_type": "stream",
     "text": [
      "[Parallel(n_jobs=-1)]: Using backend LokyBackend with 4 concurrent workers.\n",
      "[Parallel(n_jobs=-1)]: Done  42 tasks      | elapsed:    4.8s\n",
      "[Parallel(n_jobs=-1)]: Done 272 tasks      | elapsed:   40.8s\n",
      "[Parallel(n_jobs=-1)]: Done 522 tasks      | elapsed:  2.2min\n"
     ]
    },
    {
     "name": "stdout",
     "output_type": "stream",
     "text": [
      "Best Score:  1.0\n",
      "Best Params:  {'C': 0.01, 'class_weight': {1: 0.5, 0: 0.5}, 'penalty': 'l1', 'solver': 'liblinear'}\n"
     ]
    },
    {
     "name": "stderr",
     "output_type": "stream",
     "text": [
      "[Parallel(n_jobs=-1)]: Done 640 out of 640 | elapsed:  3.3min finished\n"
     ]
    }
   ],
   "source": [
    "#GridSearchCV implements a “fit” and a “score” method. #This helped imrobe the model\n",
    "#as shown by the best_score below\n",
    "from sklearn.model_selection import GridSearchCV\n",
    "penalty = ['l1', 'l2']\n",
    "C = [0.0001, 0.001, 0.01, 0.1, 1, 10, 100, 1000]\n",
    "class_weight = [{1:0.5, 0:0.5}, {1:0.4, 0:0.6}, {1:0.6, 0:0.4}, {1:0.7, 0:0.3}]\n",
    "solver = ['liblinear', 'saga']\n",
    "param_grid = dict(penalty=penalty,\n",
    "                  C=C,\n",
    "                  class_weight=class_weight,\n",
    "                  solver=solver)\n",
    "grid = GridSearchCV(estimator=lr,\n",
    "                    param_grid=param_grid,\n",
    "                    scoring='roc_auc',\n",
    "                    verbose=1,\n",
    "                    n_jobs=-1)\n",
    "grid_result = grid.fit(X_train, y_train)\n",
    "\n",
    "print('Best Score: ', grid_result.best_score_)\n",
    "print('Best Params: ', grid_result.best_params_)"
   ]
  },
  {
   "cell_type": "code",
   "execution_count": 56,
   "metadata": {},
   "outputs": [],
   "source": [
    "import matplotlib.pyplot as plt\n",
    "import seaborn as sns\n",
    "from sklearn import metrics"
   ]
  },
  {
   "cell_type": "code",
   "execution_count": 57,
   "metadata": {},
   "outputs": [
    {
     "name": "stdout",
     "output_type": "stream",
     "text": [
      "[[1889   23]\n",
      " [  31  678]]\n"
     ]
    }
   ],
   "source": [
    "#I am creating a confusion matrix with this code. There were\n",
    "#1889 true negatives in this sample. There were also 678 true positives\n",
    "#There were onlly  31 false negatives and 23 false positives.\n",
    "cm = metrics.confusion_matrix(y_test, predictions)\n",
    "print(cm)"
   ]
  },
  {
   "cell_type": "code",
   "execution_count": 58,
   "metadata": {},
   "outputs": [
    {
     "data": {
      "image/png": "[encoded data removed]",
      "text/plain": [
       "<Figure size 648x648 with 2 Axes>"
      ]
     },
     "metadata": {
      "needs_background": "light"
     },
     "output_type": "display_data"
    }
   ],
   "source": [
    "\n",
    "plt.figure(figsize=(9,9))\n",
    "sns.heatmap(cm, annot=True, fmt=\".3f\", linewidths=.5, square = True, cmap = 'Blues_r');\n",
    "plt.ylabel('Actual label');\n",
    "plt.xlabel('Predicted label');\n",
    "all_sample_title = 'Accuracy Score: {0}'.format(score)\n",
    "plt.title(all_sample_title, size = 15);\n"
   ]
  },
  {
   "cell_type": "code",
   "execution_count": 59,
   "metadata": {},
   "outputs": [
    {
     "ename": "NameError",
     "evalue": "name 'r2_score' is not defined",
     "output_type": "error",
     "traceback": [
      "\u001b[0;31m---------------------------------------------------------------------------\u001b[0m",
      "\u001b[0;31mNameError\u001b[0m                                 Traceback (most recent call last)",
      "\u001b[0;32m<ipython-input-59-b9b760024975>\u001b[0m in \u001b[0;36m<module>\u001b[0;34m\u001b[0m\n\u001b[1;32m      1\u001b[0m \u001b[0;31m#This two scores show that the model worked well again. The r^2\u001b[0m\u001b[0;34m\u001b[0m\u001b[0;34m\u001b[0m\u001b[0m\n\u001b[1;32m      2\u001b[0m \u001b[0;31m#value was 0.9 which agains shows the validiyt of the logistical regression\u001b[0m\u001b[0;34m\u001b[0m\u001b[0;34m\u001b[0m\u001b[0m\n\u001b[0;32m----> 3\u001b[0;31m \u001b[0mprint\u001b[0m\u001b[0;34m(\u001b[0m\u001b[0;34m\"Logistic regression r2 is \"\u001b[0m\u001b[0;34m,\u001b[0m \u001b[0mround\u001b[0m\u001b[0;34m(\u001b[0m\u001b[0mr2_score\u001b[0m\u001b[0;34m(\u001b[0m\u001b[0my_test\u001b[0m\u001b[0;34m,\u001b[0m \u001b[0mpredictions\u001b[0m\u001b[0;34m)\u001b[0m\u001b[0;34m,\u001b[0m \u001b[0mndigits\u001b[0m\u001b[0;34m=\u001b[0m\u001b[0;36m2\u001b[0m\u001b[0;34m)\u001b[0m\u001b[0;34m)\u001b[0m\u001b[0;34m\u001b[0m\u001b[0m\n\u001b[0m\u001b[1;32m      4\u001b[0m \u001b[0mprint\u001b[0m\u001b[0;34m(\u001b[0m\u001b[0;34m\"Logistic regression MSE is \"\u001b[0m\u001b[0;34m,\u001b[0m \u001b[0mround\u001b[0m\u001b[0;34m(\u001b[0m\u001b[0mmean_squared_error\u001b[0m\u001b[0;34m(\u001b[0m\u001b[0my_test\u001b[0m\u001b[0;34m,\u001b[0m \u001b[0mpredictions\u001b[0m\u001b[0;34m)\u001b[0m\u001b[0;34m,\u001b[0m \u001b[0;36m2\u001b[0m\u001b[0;34m)\u001b[0m\u001b[0;34m)\u001b[0m\u001b[0;34m\u001b[0m\u001b[0m\n\u001b[1;32m      5\u001b[0m \u001b[0;34m\u001b[0m\u001b[0m\n",
      "\u001b[0;31mNameError\u001b[0m: name 'r2_score' is not defined"
     ]
    }
   ],
   "source": [
    "#This two scores show that the model worked well again. The r^2\n",
    "#value was 0.9 which agains shows the validiyt of the logistical regression\n",
    "print(\"Logistic regression r2 is \", round(r2_score(y_test, predictions), ndigits=2))\n",
    "print(\"Logistic regression MSE is \", round(mean_squared_error(y_test, predictions), 2))\n",
    "\n"
   ]
  },
  {
   "cell_type": "code",
   "execution_count": 60,
   "metadata": {},
   "outputs": [],
   "source": [
    "#This function that I created just gets the auc (area under the curve)\n",
    "#for the modfel ran previously\n",
    "def model(X_train, y_train, X_test, y_test):\n",
    "    model1 = LogisticRegression()\n",
    "    model1.fit(X_train, y_train)\n",
    "    y_pred= [x[1] for x in model1.predict_proba(X_test)]\n",
    "    auc = roc_auc_score(y_test, y_pred)\n",
    "    \n",
    "    return auc"
   ]
  },
  {
   "cell_type": "code",
   "execution_count": 61,
   "metadata": {},
   "outputs": [
    {
     "name": "stdout",
     "output_type": "stream",
     "text": [
      "0.9995846881989483\n"
     ]
    },
    {
     "name": "stderr",
     "output_type": "stream",
     "text": [
      "/Library/Frameworks/Python.framework/Versions/3.6/lib/python3.6/site-packages/sklearn/linear_model/_logistic.py:940: ConvergenceWarning: lbfgs failed to converge (status=1):\n",
      "STOP: TOTAL NO. of ITERATIONS REACHED LIMIT.\n",
      "\n",
      "Increase the number of iterations (max_iter) or scale the data as shown in:\n",
      "    https://scikit-learn.org/stable/modules/preprocessing.html\n",
      "Please also refer to the documentation for alternative solver options:\n",
      "    https://scikit-learn.org/stable/modules/linear_model.html#logistic-regression\n",
      "  extra_warning_msg=_LOGISTIC_SOLVER_CONVERGENCE_MSG)\n"
     ]
    }
   ],
   "source": [
    "#The auc is very good in this model, which is consistent with the other tests that I ran\n",
    "auc1=model(X_train_selected, y_train, X_test_selected, y_test)\n",
    "print(auc1)\n"
   ]
  },
  {
   "cell_type": "code",
   "execution_count": 62,
   "metadata": {},
   "outputs": [],
   "source": [
    "#unpreprocessed data to see how much the model worsened without the\n",
    "#precprocssing\n",
    "df1 = df\n",
    "df1 = df1.dropna(axis=0, how='any')"
   ]
  },
  {
   "cell_type": "code",
   "execution_count": 63,
   "metadata": {},
   "outputs": [],
   "source": [
    "for col_name in df1.columns:\n",
    "    if df1[col_name].dtypes not in ['int32','int64','float32','float64']:\n",
    "        df1 = df1.drop(col_name, 1)"
   ]
  },
  {
   "cell_type": "code",
   "execution_count": 64,
   "metadata": {},
   "outputs": [],
   "source": [
    "X1=df1.drop('point',1)\n",
    "y1=df1.point"
   ]
  },
  {
   "cell_type": "code",
   "execution_count": 65,
   "metadata": {},
   "outputs": [],
   "source": [
    "X1_train,X1_test,y_train,y_test=train_test_split(X1,y1,test_size=0.3, random_state=42)"
   ]
  },
  {
   "cell_type": "code",
   "execution_count": 66,
   "metadata": {},
   "outputs": [
    {
     "name": "stdout",
     "output_type": "stream",
     "text": [
      "0.9988912724032316\n"
     ]
    },
    {
     "name": "stderr",
     "output_type": "stream",
     "text": [
      "/Library/Frameworks/Python.framework/Versions/3.6/lib/python3.6/site-packages/sklearn/linear_model/_logistic.py:940: ConvergenceWarning: lbfgs failed to converge (status=1):\n",
      "STOP: TOTAL NO. of ITERATIONS REACHED LIMIT.\n",
      "\n",
      "Increase the number of iterations (max_iter) or scale the data as shown in:\n",
      "    https://scikit-learn.org/stable/modules/preprocessing.html\n",
      "Please also refer to the documentation for alternative solver options:\n",
      "    https://scikit-learn.org/stable/modules/linear_model.html#logistic-regression\n",
      "  extra_warning_msg=_LOGISTIC_SOLVER_CONVERGENCE_MSG)\n"
     ]
    }
   ],
   "source": [
    "#The model improves by .01 in the auc curve measurement. This is not a lot but it could be significant \n",
    "#when dealing with them many players.\n",
    "auc2=model(X1_train,y_train,X1_test,y_test)\n",
    "print(auc2)"
   ]
  },
  {
   "cell_type": "code",
   "execution_count": 67,
   "metadata": {},
   "outputs": [
    {
     "name": "stdout",
     "output_type": "stream",
     "text": [
      "Accuracy of logistic regression classifier on test set: 0.98\n"
     ]
    }
   ],
   "source": [
    "print('Accuracy of logistic regression classifier on test set: {:.2f}'.format(lr.score(X_test, y_test)))"
   ]
  },
  {
   "cell_type": "code",
   "execution_count": 68,
   "metadata": {},
   "outputs": [
    {
     "ename": "NameError",
     "evalue": "name 'classification_report' is not defined",
     "output_type": "error",
     "traceback": [
      "\u001b[0;31m---------------------------------------------------------------------------\u001b[0m",
      "\u001b[0;31mNameError\u001b[0m                                 Traceback (most recent call last)",
      "\u001b[0;32m<ipython-input-68-a628bb794591>\u001b[0m in \u001b[0;36m<module>\u001b[0;34m\u001b[0m\n\u001b[1;32m      1\u001b[0m \u001b[0;31m#The classification reports again shows that the model was a good predictor of\u001b[0m\u001b[0;34m\u001b[0m\u001b[0;34m\u001b[0m\u001b[0m\n\u001b[1;32m      2\u001b[0m \u001b[0;31m#whether or not a player would score over time points per game\u001b[0m\u001b[0;34m\u001b[0m\u001b[0;34m\u001b[0m\u001b[0m\n\u001b[0;32m----> 3\u001b[0;31m \u001b[0mprint\u001b[0m\u001b[0;34m(\u001b[0m\u001b[0mclassification_report\u001b[0m\u001b[0;34m(\u001b[0m\u001b[0my\u001b[0m\u001b[0;34m,\u001b[0m \u001b[0mlr\u001b[0m\u001b[0;34m.\u001b[0m\u001b[0mpredict\u001b[0m\u001b[0;34m(\u001b[0m\u001b[0mX\u001b[0m\u001b[0;34m)\u001b[0m\u001b[0;34m)\u001b[0m\u001b[0;34m)\u001b[0m\u001b[0;34m\u001b[0m\u001b[0m\n\u001b[0m",
      "\u001b[0;31mNameError\u001b[0m: name 'classification_report' is not defined"
     ]
    }
   ],
   "source": [
    "#The classification reports again shows that the model was a good predictor of\n",
    "#whether or not a player would score over time points per game\n",
    "print(classification_report(y, lr.predict(X)))"
   ]
  },
  {
   "cell_type": "code",
   "execution_count": 69,
   "metadata": {},
   "outputs": [],
   "source": [
    "#Sorting the Y Dataframe\n",
    "Y=Y.sort_values(ascending=False)"
   ]
  },
  {
   "cell_type": "code",
   "execution_count": 70,
   "metadata": {},
   "outputs": [],
   "source": [
    "##using the regression to predict the entire X (the rest of the players)\n",
    "y_pred=lr.predict(X)\n",
    "Y=Y.sort_values(ascending=False)"
   ]
  },
  {
   "cell_type": "code",
   "execution_count": 71,
   "metadata": {},
   "outputs": [],
   "source": [
    "#Creating a new data frame that shows the actual (whether the player\n",
    "#scored more than ten points per game) and predicted.\n",
    "df33=pd.DataFrame({'Actual':Y,'predicted': y_pred})"
   ]
  },
  {
   "cell_type": "code",
   "execution_count": 72,
   "metadata": {},
   "outputs": [
    {
     "data": {
      "text/html": [
       "<div>\n",
       "<style scoped>\n",
       "    .dataframe tbody tr th:only-of-type {\n",
       "        vertical-align: middle;\n",
       "    }\n",
       "\n",
       "    .dataframe tbody tr th {\n",
       "        vertical-align: top;\n",
       "    }\n",
       "\n",
       "    .dataframe thead th {\n",
       "        text-align: right;\n",
       "    }\n",
       "</style>\n",
       "<table border=\"1\" class=\"dataframe\">\n",
       "  <thead>\n",
       "    <tr style=\"text-align: right;\">\n",
       "      <th></th>\n",
       "      <th>Actual</th>\n",
       "      <th>predicted</th>\n",
       "    </tr>\n",
       "  </thead>\n",
       "  <tbody>\n",
       "    <tr>\n",
       "      <th>2341</th>\n",
       "      <td>1</td>\n",
       "      <td>1</td>\n",
       "    </tr>\n",
       "    <tr>\n",
       "      <th>6138</th>\n",
       "      <td>1</td>\n",
       "      <td>1</td>\n",
       "    </tr>\n",
       "    <tr>\n",
       "      <th>6051</th>\n",
       "      <td>1</td>\n",
       "      <td>1</td>\n",
       "    </tr>\n",
       "    <tr>\n",
       "      <th>3637</th>\n",
       "      <td>1</td>\n",
       "      <td>1</td>\n",
       "    </tr>\n",
       "    <tr>\n",
       "      <th>6114</th>\n",
       "      <td>1</td>\n",
       "      <td>1</td>\n",
       "    </tr>\n",
       "    <tr>\n",
       "      <th>6115</th>\n",
       "      <td>1</td>\n",
       "      <td>1</td>\n",
       "    </tr>\n",
       "    <tr>\n",
       "      <th>6145</th>\n",
       "      <td>1</td>\n",
       "      <td>1</td>\n",
       "    </tr>\n",
       "    <tr>\n",
       "      <th>6164</th>\n",
       "      <td>1</td>\n",
       "      <td>1</td>\n",
       "    </tr>\n",
       "    <tr>\n",
       "      <th>6160</th>\n",
       "      <td>1</td>\n",
       "      <td>1</td>\n",
       "    </tr>\n",
       "    <tr>\n",
       "      <th>6159</th>\n",
       "      <td>1</td>\n",
       "      <td>1</td>\n",
       "    </tr>\n",
       "  </tbody>\n",
       "</table>\n",
       "</div>"
      ],
      "text/plain": [
       "      Actual  predicted\n",
       "2341       1          1\n",
       "6138       1          1\n",
       "6051       1          1\n",
       "3637       1          1\n",
       "6114       1          1\n",
       "6115       1          1\n",
       "6145       1          1\n",
       "6164       1          1\n",
       "6160       1          1\n",
       "6159       1          1"
      ]
     },
     "execution_count": 72,
     "metadata": {},
     "output_type": "execute_result"
    }
   ],
   "source": [
    "df33.sort_values(by='predicted',ascending=False)\n",
    "df33.head(10)"
   ]
  },
  {
   "cell_type": "code",
   "execution_count": 73,
   "metadata": {},
   "outputs": [],
   "source": [
    "df33=df33.sort_index()"
   ]
  },
  {
   "cell_type": "code",
   "execution_count": 74,
   "metadata": {},
   "outputs": [],
   "source": [
    "#The index in this was the playerID in the original dataframe, so making a new column ready to merge it\n",
    "#with the playername\n",
    "df33[\"PlayerID\"] = df.index"
   ]
  },
  {
   "cell_type": "code",
   "execution_count": 75,
   "metadata": {},
   "outputs": [
    {
     "data": {
      "text/html": [
       "<div>\n",
       "<style scoped>\n",
       "    .dataframe tbody tr th:only-of-type {\n",
       "        vertical-align: middle;\n",
       "    }\n",
       "\n",
       "    .dataframe tbody tr th {\n",
       "        vertical-align: top;\n",
       "    }\n",
       "\n",
       "    .dataframe thead th {\n",
       "        text-align: right;\n",
       "    }\n",
       "</style>\n",
       "<table border=\"1\" class=\"dataframe\">\n",
       "  <thead>\n",
       "    <tr style=\"text-align: right;\">\n",
       "      <th></th>\n",
       "      <th>Actual</th>\n",
       "      <th>predicted</th>\n",
       "      <th>PlayerID</th>\n",
       "    </tr>\n",
       "  </thead>\n",
       "  <tbody>\n",
       "    <tr>\n",
       "      <th>1</th>\n",
       "      <td>0</td>\n",
       "      <td>0</td>\n",
       "      <td>1</td>\n",
       "    </tr>\n",
       "    <tr>\n",
       "      <th>2</th>\n",
       "      <td>0</td>\n",
       "      <td>0</td>\n",
       "      <td>2</td>\n",
       "    </tr>\n",
       "    <tr>\n",
       "      <th>3</th>\n",
       "      <td>0</td>\n",
       "      <td>0</td>\n",
       "      <td>3</td>\n",
       "    </tr>\n",
       "    <tr>\n",
       "      <th>4</th>\n",
       "      <td>0</td>\n",
       "      <td>0</td>\n",
       "      <td>4</td>\n",
       "    </tr>\n",
       "    <tr>\n",
       "      <th>5</th>\n",
       "      <td>0</td>\n",
       "      <td>0</td>\n",
       "      <td>5</td>\n",
       "    </tr>\n",
       "    <tr>\n",
       "      <th>...</th>\n",
       "      <td>...</td>\n",
       "      <td>...</td>\n",
       "      <td>...</td>\n",
       "    </tr>\n",
       "    <tr>\n",
       "      <th>11140</th>\n",
       "      <td>0</td>\n",
       "      <td>0</td>\n",
       "      <td>11140</td>\n",
       "    </tr>\n",
       "    <tr>\n",
       "      <th>11141</th>\n",
       "      <td>0</td>\n",
       "      <td>0</td>\n",
       "      <td>11141</td>\n",
       "    </tr>\n",
       "    <tr>\n",
       "      <th>11142</th>\n",
       "      <td>0</td>\n",
       "      <td>0</td>\n",
       "      <td>11142</td>\n",
       "    </tr>\n",
       "    <tr>\n",
       "      <th>11143</th>\n",
       "      <td>0</td>\n",
       "      <td>0</td>\n",
       "      <td>11143</td>\n",
       "    </tr>\n",
       "    <tr>\n",
       "      <th>11144</th>\n",
       "      <td>0</td>\n",
       "      <td>0</td>\n",
       "      <td>11144</td>\n",
       "    </tr>\n",
       "  </tbody>\n",
       "</table>\n",
       "<p>8735 rows × 3 columns</p>\n",
       "</div>"
      ],
      "text/plain": [
       "       Actual  predicted  PlayerID\n",
       "1           0          0         1\n",
       "2           0          0         2\n",
       "3           0          0         3\n",
       "4           0          0         4\n",
       "5           0          0         5\n",
       "...       ...        ...       ...\n",
       "11140       0          0     11140\n",
       "11141       0          0     11141\n",
       "11142       0          0     11142\n",
       "11143       0          0     11143\n",
       "11144       0          0     11144\n",
       "\n",
       "[8735 rows x 3 columns]"
      ]
     },
     "execution_count": 75,
     "metadata": {},
     "output_type": "execute_result"
    }
   ],
   "source": [
    "df33"
   ]
  },
  {
   "cell_type": "code",
   "execution_count": 76,
   "metadata": {},
   "outputs": [],
   "source": [
    "#Merging the two dataframe on PlayerID. Doing an inner join because some players weree eliminated from the sample becuase of outliers\n",
    "result=pd.merge(df111, df33, on='PlayerID', how='inner')\n"
   ]
  },
  {
   "cell_type": "code",
   "execution_count": 78,
   "metadata": {},
   "outputs": [
    {
     "data": {
      "text/html": [
       "<div>\n",
       "<style scoped>\n",
       "    .dataframe tbody tr th:only-of-type {\n",
       "        vertical-align: middle;\n",
       "    }\n",
       "\n",
       "    .dataframe tbody tr th {\n",
       "        vertical-align: top;\n",
       "    }\n",
       "\n",
       "    .dataframe thead th {\n",
       "        text-align: right;\n",
       "    }\n",
       "</style>\n",
       "<table border=\"1\" class=\"dataframe\">\n",
       "  <thead>\n",
       "    <tr style=\"text-align: right;\">\n",
       "      <th></th>\n",
       "      <th>player_name</th>\n",
       "      <th>PlayerID</th>\n",
       "      <th>Actual</th>\n",
       "      <th>predicted</th>\n",
       "    </tr>\n",
       "  </thead>\n",
       "  <tbody>\n",
       "    <tr>\n",
       "      <th>6476</th>\n",
       "      <td>Cody Zeller</td>\n",
       "      <td>8233</td>\n",
       "      <td>0</td>\n",
       "      <td>0</td>\n",
       "    </tr>\n",
       "    <tr>\n",
       "      <th>2236</th>\n",
       "      <td>Stacey Augmon</td>\n",
       "      <td>2874</td>\n",
       "      <td>0</td>\n",
       "      <td>0</td>\n",
       "    </tr>\n",
       "    <tr>\n",
       "      <th>2238</th>\n",
       "      <td>Shane Battier</td>\n",
       "      <td>2876</td>\n",
       "      <td>0</td>\n",
       "      <td>0</td>\n",
       "    </tr>\n",
       "    <tr>\n",
       "      <th>2239</th>\n",
       "      <td>Ryan Bowen</td>\n",
       "      <td>2877</td>\n",
       "      <td>0</td>\n",
       "      <td>0</td>\n",
       "    </tr>\n",
       "    <tr>\n",
       "      <th>2240</th>\n",
       "      <td>Ruben Patterson</td>\n",
       "      <td>2879</td>\n",
       "      <td>0</td>\n",
       "      <td>0</td>\n",
       "    </tr>\n",
       "    <tr>\n",
       "      <th>...</th>\n",
       "      <td>...</td>\n",
       "      <td>...</td>\n",
       "      <td>...</td>\n",
       "      <td>...</td>\n",
       "    </tr>\n",
       "    <tr>\n",
       "      <th>499</th>\n",
       "      <td>Reggie Miller</td>\n",
       "      <td>627</td>\n",
       "      <td>1</td>\n",
       "      <td>1</td>\n",
       "    </tr>\n",
       "    <tr>\n",
       "      <th>5121</th>\n",
       "      <td>CJ Miles</td>\n",
       "      <td>6511</td>\n",
       "      <td>1</td>\n",
       "      <td>1</td>\n",
       "    </tr>\n",
       "    <tr>\n",
       "      <th>5048</th>\n",
       "      <td>Darren Collison</td>\n",
       "      <td>6414</td>\n",
       "      <td>1</td>\n",
       "      <td>1</td>\n",
       "    </tr>\n",
       "    <tr>\n",
       "      <th>5129</th>\n",
       "      <td>Charlie Villanueva</td>\n",
       "      <td>6521</td>\n",
       "      <td>1</td>\n",
       "      <td>1</td>\n",
       "    </tr>\n",
       "    <tr>\n",
       "      <th>1583</th>\n",
       "      <td>Kelvin Cato</td>\n",
       "      <td>2036</td>\n",
       "      <td>0</td>\n",
       "      <td>1</td>\n",
       "    </tr>\n",
       "  </tbody>\n",
       "</table>\n",
       "<p>8735 rows × 4 columns</p>\n",
       "</div>"
      ],
      "text/plain": [
       "             player_name  PlayerID  Actual  predicted\n",
       "6476         Cody Zeller      8233       0          0\n",
       "2236       Stacey Augmon      2874       0          0\n",
       "2238       Shane Battier      2876       0          0\n",
       "2239          Ryan Bowen      2877       0          0\n",
       "2240     Ruben Patterson      2879       0          0\n",
       "...                  ...       ...     ...        ...\n",
       "499        Reggie Miller       627       1          1\n",
       "5121            CJ Miles      6511       1          1\n",
       "5048     Darren Collison      6414       1          1\n",
       "5129  Charlie Villanueva      6521       1          1\n",
       "1583         Kelvin Cato      2036       0          1\n",
       "\n",
       "[8735 rows x 4 columns]"
      ]
     },
     "execution_count": 78,
     "metadata": {},
     "output_type": "execute_result"
    }
   ],
   "source": [
    "result=result.sort_values(by='predicted',ascending=True)\n",
    "result\n"
   ]
  },
  {
   "cell_type": "code",
   "execution_count": 89,
   "metadata": {},
   "outputs": [],
   "source": [
    "#Creating a range of mumbers 1-10 to use for the clustering model.\n",
    "import numpy as np \n",
    "from sklearn.cluster import KMeans\n",
    "\n",
    "def createList(r1, r2): \n",
    "    return np.arange(r1, r2+1, 1) \n",
    "      \n",
    "# Driver Code \n",
    "r1, r2 = 1, 10\n",
    "list=createList(r1, r2)"
   ]
  },
  {
   "cell_type": "code",
   "execution_count": 90,
   "metadata": {},
   "outputs": [],
   "source": [
    "#This part of the code allows us to see the sum of square errors. You want to have a low SSE.\n",
    "#As you can see in the graph as the segmenets that are added, the SSE improves.\n",
    "#However, you have to account for some error within the code.\n",
    "sse=[]\n",
    "\n",
    "\n",
    "for k in list:\n",
    "    kmeans=KMeans(n_clusters=k)\n",
    "    kmeans.fit(X)\n",
    "    sse.append(kmeans.inertia_)\n",
    "    "
   ]
  },
  {
   "cell_type": "code",
   "execution_count": 91,
   "metadata": {},
   "outputs": [
    {
     "data": {
      "text/plain": [
       "Text(0,0.5,'Sum of Squared Distance')"
      ]
     },
     "execution_count": 91,
     "metadata": {},
     "output_type": "execute_result"
    },
    {
     "data": {
      "image/png": "[encoded data removed]",
      "text/plain": [
       "<Figure size 432x432 with 1 Axes>"
      ]
     },
     "metadata": {
      "needs_background": "light"
     },
     "output_type": "display_data"
    }
   ],
   "source": [
    "#Looking at the graph and accounting for the degree of error, it seems as\n",
    "#three is a suitable amount of clusters.\n",
    "plt.figure(figsize=(6,6))\n",
    "plt.plot(list,sse,'-o')\n",
    "plt.xlabel('Number of Clusters')\n",
    "plt.ylabel('Sum of Squared Distance')"
   ]
  },
  {
   "cell_type": "code",
   "execution_count": 92,
   "metadata": {},
   "outputs": [
    {
     "data": {
      "text/plain": [
       "KMeans(algorithm='auto', copy_x=True, init='k-means++', max_iter=300,\n",
       "       n_clusters=3, n_init=10, n_jobs=None, precompute_distances='auto',\n",
       "       random_state=None, tol=0.0001, verbose=0)"
      ]
     },
     "execution_count": 92,
     "metadata": {},
     "output_type": "execute_result"
    }
   ],
   "source": [
    "#Using K-means clustering as my unsupervised model.\n",
    "kmeans = KMeans(n_clusters=3)\n",
    "kmeans.fit(X)"
   ]
  },
  {
   "cell_type": "code",
   "execution_count": 93,
   "metadata": {},
   "outputs": [],
   "source": [
    "#Creating a new columns that fits each player into a different cluster\n",
    "X['cluster']= kmeans.fit_predict(X[X.columns[2:]])"
   ]
  },
  {
   "cell_type": "code",
   "execution_count": 94,
   "metadata": {},
   "outputs": [],
   "source": [
    "#Making a new object with those values to create a new dataframe\n",
    "clust=kmeans.fit_predict(X[X.columns[2:]])"
   ]
  },
  {
   "cell_type": "code",
   "execution_count": 95,
   "metadata": {},
   "outputs": [],
   "source": [
    "#Creating a new dataframe to get the summary statistics of each clusters\n",
    "y_clust=pd.DataFrame(np.vstack([clust,Y]).T, columns=[\"Cluster\",\"Points\"])"
   ]
  },
  {
   "cell_type": "code",
   "execution_count": 96,
   "metadata": {},
   "outputs": [
    {
     "data": {
      "text/html": [
       "<div>\n",
       "<style scoped>\n",
       "    .dataframe tbody tr th:only-of-type {\n",
       "        vertical-align: middle;\n",
       "    }\n",
       "\n",
       "    .dataframe tbody tr th {\n",
       "        vertical-align: top;\n",
       "    }\n",
       "\n",
       "    .dataframe thead th {\n",
       "        text-align: right;\n",
       "    }\n",
       "</style>\n",
       "<table border=\"1\" class=\"dataframe\">\n",
       "  <thead>\n",
       "    <tr style=\"text-align: right;\">\n",
       "      <th></th>\n",
       "      <th>count</th>\n",
       "      <th>mean</th>\n",
       "      <th>std</th>\n",
       "      <th>min</th>\n",
       "      <th>25%</th>\n",
       "      <th>50%</th>\n",
       "      <th>75%</th>\n",
       "      <th>max</th>\n",
       "    </tr>\n",
       "    <tr>\n",
       "      <th>Cluster</th>\n",
       "      <th></th>\n",
       "      <th></th>\n",
       "      <th></th>\n",
       "      <th></th>\n",
       "      <th></th>\n",
       "      <th></th>\n",
       "      <th></th>\n",
       "      <th></th>\n",
       "    </tr>\n",
       "  </thead>\n",
       "  <tbody>\n",
       "    <tr>\n",
       "      <th>0</th>\n",
       "      <td>2827.0</td>\n",
       "      <td>0.279802</td>\n",
       "      <td>0.448981</td>\n",
       "      <td>0.0</td>\n",
       "      <td>0.0</td>\n",
       "      <td>0.0</td>\n",
       "      <td>1.0</td>\n",
       "      <td>1.0</td>\n",
       "    </tr>\n",
       "    <tr>\n",
       "      <th>1</th>\n",
       "      <td>3245.0</td>\n",
       "      <td>0.268721</td>\n",
       "      <td>0.443363</td>\n",
       "      <td>0.0</td>\n",
       "      <td>0.0</td>\n",
       "      <td>0.0</td>\n",
       "      <td>1.0</td>\n",
       "      <td>1.0</td>\n",
       "    </tr>\n",
       "    <tr>\n",
       "      <th>2</th>\n",
       "      <td>2663.0</td>\n",
       "      <td>0.254976</td>\n",
       "      <td>0.435929</td>\n",
       "      <td>0.0</td>\n",
       "      <td>0.0</td>\n",
       "      <td>0.0</td>\n",
       "      <td>1.0</td>\n",
       "      <td>1.0</td>\n",
       "    </tr>\n",
       "  </tbody>\n",
       "</table>\n",
       "</div>"
      ],
      "text/plain": [
       "          count      mean       std  min  25%  50%  75%  max\n",
       "Cluster                                                     \n",
       "0        2827.0  0.279802  0.448981  0.0  0.0  0.0  1.0  1.0\n",
       "1        3245.0  0.268721  0.443363  0.0  0.0  0.0  1.0  1.0\n",
       "2        2663.0  0.254976  0.435929  0.0  0.0  0.0  1.0  1.0"
      ]
     },
     "execution_count": 96,
     "metadata": {},
     "output_type": "execute_result"
    }
   ],
   "source": [
    "#There are most players in cluster zero. Cluster 1 has the least amount of players.\n",
    "y_clust.groupby('Cluster')['Points'].describe()"
   ]
  },
  {
   "cell_type": "code",
   "execution_count": 97,
   "metadata": {},
   "outputs": [
    {
     "data": {
      "text/plain": [
       "<matplotlib.axes._subplots.AxesSubplot at 0x11573c320>"
      ]
     },
     "execution_count": 97,
     "metadata": {},
     "output_type": "execute_result"
    },
    {
     "data": {
      "image/png": "[encoded data removed]",
      "text/plain": [
       "<Figure size 432x288 with 1 Axes>"
      ]
     },
     "metadata": {
      "needs_background": "light"
     },
     "output_type": "display_data"
    }
   ],
   "source": [
    "#Again this bargraph shows that cluster 1 scores the least number of points. Also\n",
    "#if you dive deeper in. This is consistent with the regression because cluster 1\n",
    "#is players who did not play that many games, and did not score more than 10 points per game\n",
    "sns.barplot(x=\"Cluster\",y=\"Points\",data=y_clust)"
   ]
  },
  {
   "cell_type": "code",
   "execution_count": 88,
   "metadata": {},
   "outputs": [],
   "source": [
    "X.to_csv('resultds.csv')"
   ]
  },
  {
   "cell_type": "code",
   "execution_count": 1065,
   "metadata": {},
   "outputs": [
    {
     "data": {
      "text/html": [
       "<div>\n",
       "<style scoped>\n",
       "    .dataframe tbody tr th:only-of-type {\n",
       "        vertical-align: middle;\n",
       "    }\n",
       "\n",
       "    .dataframe tbody tr th {\n",
       "        vertical-align: top;\n",
       "    }\n",
       "\n",
       "    .dataframe thead th {\n",
       "        text-align: right;\n",
       "    }\n",
       "</style>\n",
       "<table border=\"1\" class=\"dataframe\">\n",
       "  <thead>\n",
       "    <tr style=\"text-align: right;\">\n",
       "      <th></th>\n",
       "      <th>PlayerID</th>\n",
       "      <th>age</th>\n",
       "      <th>player_height</th>\n",
       "      <th>player_weight</th>\n",
       "      <th>gp</th>\n",
       "      <th>pts</th>\n",
       "      <th>reb</th>\n",
       "      <th>ast</th>\n",
       "      <th>net_rating</th>\n",
       "      <th>oreb_pct</th>\n",
       "      <th>...</th>\n",
       "      <th>season_2011-12</th>\n",
       "      <th>season_2012-13</th>\n",
       "      <th>season_2013-14</th>\n",
       "      <th>season_2014-15</th>\n",
       "      <th>season_2015-16</th>\n",
       "      <th>season_2016-17</th>\n",
       "      <th>season_2017-18</th>\n",
       "      <th>season_2018-19</th>\n",
       "      <th>season_2019-20</th>\n",
       "      <th>cluster</th>\n",
       "    </tr>\n",
       "  </thead>\n",
       "  <tbody>\n",
       "    <tr>\n",
       "      <th>0</th>\n",
       "      <td>1.0</td>\n",
       "      <td>28.0</td>\n",
       "      <td>215.90</td>\n",
       "      <td>117.933920</td>\n",
       "      <td>15.0</td>\n",
       "      <td>2.3</td>\n",
       "      <td>1.5</td>\n",
       "      <td>0.3</td>\n",
       "      <td>12.3</td>\n",
       "      <td>0.078</td>\n",
       "      <td>...</td>\n",
       "      <td>0.0</td>\n",
       "      <td>0.0</td>\n",
       "      <td>0.0</td>\n",
       "      <td>0.0</td>\n",
       "      <td>0.0</td>\n",
       "      <td>0.0</td>\n",
       "      <td>0.0</td>\n",
       "      <td>0.0</td>\n",
       "      <td>0.0</td>\n",
       "      <td>1</td>\n",
       "    </tr>\n",
       "    <tr>\n",
       "      <th>1</th>\n",
       "      <td>2.0</td>\n",
       "      <td>39.0</td>\n",
       "      <td>205.74</td>\n",
       "      <td>95.254320</td>\n",
       "      <td>9.0</td>\n",
       "      <td>0.8</td>\n",
       "      <td>1.0</td>\n",
       "      <td>0.4</td>\n",
       "      <td>-2.1</td>\n",
       "      <td>0.105</td>\n",
       "      <td>...</td>\n",
       "      <td>0.0</td>\n",
       "      <td>0.0</td>\n",
       "      <td>0.0</td>\n",
       "      <td>0.0</td>\n",
       "      <td>0.0</td>\n",
       "      <td>0.0</td>\n",
       "      <td>0.0</td>\n",
       "      <td>0.0</td>\n",
       "      <td>0.0</td>\n",
       "      <td>1</td>\n",
       "    </tr>\n",
       "    <tr>\n",
       "      <th>2</th>\n",
       "      <td>3.0</td>\n",
       "      <td>24.0</td>\n",
       "      <td>203.20</td>\n",
       "      <td>100.697424</td>\n",
       "      <td>64.0</td>\n",
       "      <td>3.7</td>\n",
       "      <td>2.3</td>\n",
       "      <td>0.6</td>\n",
       "      <td>-8.7</td>\n",
       "      <td>0.060</td>\n",
       "      <td>...</td>\n",
       "      <td>0.0</td>\n",
       "      <td>0.0</td>\n",
       "      <td>0.0</td>\n",
       "      <td>0.0</td>\n",
       "      <td>0.0</td>\n",
       "      <td>0.0</td>\n",
       "      <td>0.0</td>\n",
       "      <td>0.0</td>\n",
       "      <td>0.0</td>\n",
       "      <td>2</td>\n",
       "    </tr>\n",
       "    <tr>\n",
       "      <th>3</th>\n",
       "      <td>4.0</td>\n",
       "      <td>34.0</td>\n",
       "      <td>205.74</td>\n",
       "      <td>108.862080</td>\n",
       "      <td>27.0</td>\n",
       "      <td>2.4</td>\n",
       "      <td>2.4</td>\n",
       "      <td>0.2</td>\n",
       "      <td>-11.2</td>\n",
       "      <td>0.109</td>\n",
       "      <td>...</td>\n",
       "      <td>0.0</td>\n",
       "      <td>0.0</td>\n",
       "      <td>0.0</td>\n",
       "      <td>0.0</td>\n",
       "      <td>0.0</td>\n",
       "      <td>0.0</td>\n",
       "      <td>0.0</td>\n",
       "      <td>0.0</td>\n",
       "      <td>0.0</td>\n",
       "      <td>1</td>\n",
       "    </tr>\n",
       "    <tr>\n",
       "      <th>4</th>\n",
       "      <td>5.0</td>\n",
       "      <td>38.0</td>\n",
       "      <td>200.66</td>\n",
       "      <td>97.522280</td>\n",
       "      <td>52.0</td>\n",
       "      <td>8.2</td>\n",
       "      <td>2.7</td>\n",
       "      <td>1.0</td>\n",
       "      <td>4.1</td>\n",
       "      <td>0.034</td>\n",
       "      <td>...</td>\n",
       "      <td>0.0</td>\n",
       "      <td>0.0</td>\n",
       "      <td>0.0</td>\n",
       "      <td>0.0</td>\n",
       "      <td>0.0</td>\n",
       "      <td>0.0</td>\n",
       "      <td>0.0</td>\n",
       "      <td>0.0</td>\n",
       "      <td>0.0</td>\n",
       "      <td>0</td>\n",
       "    </tr>\n",
       "    <tr>\n",
       "      <th>...</th>\n",
       "      <td>...</td>\n",
       "      <td>...</td>\n",
       "      <td>...</td>\n",
       "      <td>...</td>\n",
       "      <td>...</td>\n",
       "      <td>...</td>\n",
       "      <td>...</td>\n",
       "      <td>...</td>\n",
       "      <td>...</td>\n",
       "      <td>...</td>\n",
       "      <td>...</td>\n",
       "      <td>...</td>\n",
       "      <td>...</td>\n",
       "      <td>...</td>\n",
       "      <td>...</td>\n",
       "      <td>...</td>\n",
       "      <td>...</td>\n",
       "      <td>...</td>\n",
       "      <td>...</td>\n",
       "      <td>...</td>\n",
       "      <td>...</td>\n",
       "    </tr>\n",
       "    <tr>\n",
       "      <th>8730</th>\n",
       "      <td>11140.0</td>\n",
       "      <td>28.0</td>\n",
       "      <td>208.28</td>\n",
       "      <td>108.862080</td>\n",
       "      <td>63.0</td>\n",
       "      <td>9.1</td>\n",
       "      <td>5.4</td>\n",
       "      <td>1.1</td>\n",
       "      <td>4.6</td>\n",
       "      <td>0.056</td>\n",
       "      <td>...</td>\n",
       "      <td>0.0</td>\n",
       "      <td>0.0</td>\n",
       "      <td>0.0</td>\n",
       "      <td>0.0</td>\n",
       "      <td>0.0</td>\n",
       "      <td>0.0</td>\n",
       "      <td>0.0</td>\n",
       "      <td>0.0</td>\n",
       "      <td>1.0</td>\n",
       "      <td>2</td>\n",
       "    </tr>\n",
       "    <tr>\n",
       "      <th>8731</th>\n",
       "      <td>11141.0</td>\n",
       "      <td>23.0</td>\n",
       "      <td>195.58</td>\n",
       "      <td>97.522280</td>\n",
       "      <td>15.0</td>\n",
       "      <td>1.2</td>\n",
       "      <td>0.3</td>\n",
       "      <td>0.1</td>\n",
       "      <td>-2.4</td>\n",
       "      <td>0.018</td>\n",
       "      <td>...</td>\n",
       "      <td>0.0</td>\n",
       "      <td>0.0</td>\n",
       "      <td>0.0</td>\n",
       "      <td>0.0</td>\n",
       "      <td>0.0</td>\n",
       "      <td>0.0</td>\n",
       "      <td>0.0</td>\n",
       "      <td>0.0</td>\n",
       "      <td>1.0</td>\n",
       "      <td>1</td>\n",
       "    </tr>\n",
       "    <tr>\n",
       "      <th>8732</th>\n",
       "      <td>11142.0</td>\n",
       "      <td>28.0</td>\n",
       "      <td>213.36</td>\n",
       "      <td>117.933920</td>\n",
       "      <td>49.0</td>\n",
       "      <td>6.1</td>\n",
       "      <td>5.1</td>\n",
       "      <td>1.1</td>\n",
       "      <td>5.6</td>\n",
       "      <td>0.029</td>\n",
       "      <td>...</td>\n",
       "      <td>0.0</td>\n",
       "      <td>0.0</td>\n",
       "      <td>0.0</td>\n",
       "      <td>0.0</td>\n",
       "      <td>0.0</td>\n",
       "      <td>0.0</td>\n",
       "      <td>0.0</td>\n",
       "      <td>0.0</td>\n",
       "      <td>1.0</td>\n",
       "      <td>2</td>\n",
       "    </tr>\n",
       "    <tr>\n",
       "      <th>8733</th>\n",
       "      <td>11143.0</td>\n",
       "      <td>27.0</td>\n",
       "      <td>208.28</td>\n",
       "      <td>104.779752</td>\n",
       "      <td>20.0</td>\n",
       "      <td>2.1</td>\n",
       "      <td>3.0</td>\n",
       "      <td>0.4</td>\n",
       "      <td>-16.4</td>\n",
       "      <td>0.085</td>\n",
       "      <td>...</td>\n",
       "      <td>0.0</td>\n",
       "      <td>0.0</td>\n",
       "      <td>0.0</td>\n",
       "      <td>0.0</td>\n",
       "      <td>0.0</td>\n",
       "      <td>0.0</td>\n",
       "      <td>0.0</td>\n",
       "      <td>0.0</td>\n",
       "      <td>1.0</td>\n",
       "      <td>1</td>\n",
       "    </tr>\n",
       "    <tr>\n",
       "      <th>8734</th>\n",
       "      <td>11144.0</td>\n",
       "      <td>25.0</td>\n",
       "      <td>193.04</td>\n",
       "      <td>86.182480</td>\n",
       "      <td>31.0</td>\n",
       "      <td>4.5</td>\n",
       "      <td>1.4</td>\n",
       "      <td>0.5</td>\n",
       "      <td>1.0</td>\n",
       "      <td>0.017</td>\n",
       "      <td>...</td>\n",
       "      <td>0.0</td>\n",
       "      <td>0.0</td>\n",
       "      <td>0.0</td>\n",
       "      <td>0.0</td>\n",
       "      <td>0.0</td>\n",
       "      <td>0.0</td>\n",
       "      <td>0.0</td>\n",
       "      <td>0.0</td>\n",
       "      <td>1.0</td>\n",
       "      <td>1</td>\n",
       "    </tr>\n",
       "  </tbody>\n",
       "</table>\n",
       "<p>8735 rows × 197 columns</p>\n",
       "</div>"
      ],
      "text/plain": [
       "      PlayerID   age  player_height  player_weight    gp  pts  reb  ast  \\\n",
       "0          1.0  28.0         215.90     117.933920  15.0  2.3  1.5  0.3   \n",
       "1          2.0  39.0         205.74      95.254320   9.0  0.8  1.0  0.4   \n",
       "2          3.0  24.0         203.20     100.697424  64.0  3.7  2.3  0.6   \n",
       "3          4.0  34.0         205.74     108.862080  27.0  2.4  2.4  0.2   \n",
       "4          5.0  38.0         200.66      97.522280  52.0  8.2  2.7  1.0   \n",
       "...        ...   ...            ...            ...   ...  ...  ...  ...   \n",
       "8730   11140.0  28.0         208.28     108.862080  63.0  9.1  5.4  1.1   \n",
       "8731   11141.0  23.0         195.58      97.522280  15.0  1.2  0.3  0.1   \n",
       "8732   11142.0  28.0         213.36     117.933920  49.0  6.1  5.1  1.1   \n",
       "8733   11143.0  27.0         208.28     104.779752  20.0  2.1  3.0  0.4   \n",
       "8734   11144.0  25.0         193.04      86.182480  31.0  4.5  1.4  0.5   \n",
       "\n",
       "      net_rating  oreb_pct  ...  season_2011-12  season_2012-13  \\\n",
       "0           12.3     0.078  ...             0.0             0.0   \n",
       "1           -2.1     0.105  ...             0.0             0.0   \n",
       "2           -8.7     0.060  ...             0.0             0.0   \n",
       "3          -11.2     0.109  ...             0.0             0.0   \n",
       "4            4.1     0.034  ...             0.0             0.0   \n",
       "...          ...       ...  ...             ...             ...   \n",
       "8730         4.6     0.056  ...             0.0             0.0   \n",
       "8731        -2.4     0.018  ...             0.0             0.0   \n",
       "8732         5.6     0.029  ...             0.0             0.0   \n",
       "8733       -16.4     0.085  ...             0.0             0.0   \n",
       "8734         1.0     0.017  ...             0.0             0.0   \n",
       "\n",
       "      season_2013-14  season_2014-15  season_2015-16  season_2016-17  \\\n",
       "0                0.0             0.0             0.0             0.0   \n",
       "1                0.0             0.0             0.0             0.0   \n",
       "2                0.0             0.0             0.0             0.0   \n",
       "3                0.0             0.0             0.0             0.0   \n",
       "4                0.0             0.0             0.0             0.0   \n",
       "...              ...             ...             ...             ...   \n",
       "8730             0.0             0.0             0.0             0.0   \n",
       "8731             0.0             0.0             0.0             0.0   \n",
       "8732             0.0             0.0             0.0             0.0   \n",
       "8733             0.0             0.0             0.0             0.0   \n",
       "8734             0.0             0.0             0.0             0.0   \n",
       "\n",
       "      season_2017-18  season_2018-19  season_2019-20  cluster  \n",
       "0                0.0             0.0             0.0        1  \n",
       "1                0.0             0.0             0.0        1  \n",
       "2                0.0             0.0             0.0        2  \n",
       "3                0.0             0.0             0.0        1  \n",
       "4                0.0             0.0             0.0        0  \n",
       "...              ...             ...             ...      ...  \n",
       "8730             0.0             0.0             1.0        2  \n",
       "8731             0.0             0.0             1.0        1  \n",
       "8732             0.0             0.0             1.0        2  \n",
       "8733             0.0             0.0             1.0        1  \n",
       "8734             0.0             0.0             1.0        1  \n",
       "\n",
       "[8735 rows x 197 columns]"
      ]
     },
     "execution_count": 1065,
     "metadata": {},
     "output_type": "execute_result"
    }
   ],
   "source": [
    "X"
   ]
  },
  {
   "cell_type": "code",
   "execution_count": null,
   "metadata": {},
   "outputs": [],
   "source": []
  }
 ],
 "metadata": {
  "kernelspec": {
   "display_name": "Python 3",
   "language": "python",
   "name": "python3"
  },
  "language_info": {
   "codemirror_mode": {
    "name": "ipython",
    "version": 3
   },
   "file_extension": ".py",
   "mimetype": "text/x-python",
   "name": "python",
   "nbconvert_exporter": "python",
   "pygments_lexer": "ipython3",
   "version": "3.8.5"
  }
 },
 "nbformat": 4,
 "nbformat_minor": 2
}
